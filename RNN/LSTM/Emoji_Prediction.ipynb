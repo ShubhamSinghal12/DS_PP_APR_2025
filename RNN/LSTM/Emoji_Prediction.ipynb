{
 "cells": [
  {
   "cell_type": "code",
   "execution_count": 1,
   "id": "676566b8-d90b-4e2d-bcc3-9023cf8d22cc",
   "metadata": {},
   "outputs": [
    {
     "name": "stdout",
     "output_type": "stream",
     "text": [
      "Requirement already satisfied: emoji in c:\\users\\abhis\\miniconda3\\lib\\site-packages (2.14.1)\n"
     ]
    }
   ],
   "source": [
    "!pip install emoji"
   ]
  },
  {
   "cell_type": "code",
   "execution_count": 2,
   "id": "763631c4-c290-4956-8b30-d78fd48ff6c7",
   "metadata": {},
   "outputs": [],
   "source": [
    "import numpy as np\n",
    "import pandas as pd\n",
    "import emoji"
   ]
  },
  {
   "cell_type": "code",
   "execution_count": 3,
   "id": "582abcee-f82d-464e-8596-44f02ed07389",
   "metadata": {},
   "outputs": [],
   "source": [
    "emoji_dictionary = {\"0\": \"\\u2764\\uFE0F\",\n",
    "                    \"1\": \":baseball:\",\n",
    "                    \"2\": \":beaming_face_with_smiling_eyes:\",\n",
    "                    \"3\": \":downcast_face_with_sweat:\",\n",
    "                    \"4\": \":fork_and_knife:\",\n",
    "                   }"
   ]
  },
  {
   "cell_type": "code",
   "execution_count": 4,
   "id": "95024764-7906-4ee0-81b8-57b661a5308a",
   "metadata": {},
   "outputs": [
    {
     "data": {
      "text/plain": [
       "'⚾'"
      ]
     },
     "execution_count": 4,
     "metadata": {},
     "output_type": "execute_result"
    }
   ],
   "source": [
    "emoji.emojize(\":baseball:\")"
   ]
  },
  {
   "cell_type": "code",
   "execution_count": 5,
   "id": "17bdad76-cef4-41cf-8323-5f6021c3131f",
   "metadata": {},
   "outputs": [
    {
     "name": "stdout",
     "output_type": "stream",
     "text": [
      "❤️\n",
      "⚾\n",
      "😁\n",
      "😓\n",
      "🍴\n"
     ]
    }
   ],
   "source": [
    "for label in emoji_dictionary:\n",
    "    print(emoji.emojize(emoji_dictionary[label]))"
   ]
  },
  {
   "cell_type": "code",
   "execution_count": 6,
   "id": "7f142960-1473-46b9-bba4-dd948576928d",
   "metadata": {},
   "outputs": [],
   "source": [
    "train = pd.read_csv('dataset/train_emoji.csv',header=None)\n",
    "test = pd.read_csv('dataset/test_emoji.csv',header=None)"
   ]
  },
  {
   "cell_type": "code",
   "execution_count": 7,
   "id": "863d6943-0045-4a18-a51b-32ff683ce67b",
   "metadata": {},
   "outputs": [
    {
     "data": {
      "text/html": [
       "<div>\n",
       "<style scoped>\n",
       "    .dataframe tbody tr th:only-of-type {\n",
       "        vertical-align: middle;\n",
       "    }\n",
       "\n",
       "    .dataframe tbody tr th {\n",
       "        vertical-align: top;\n",
       "    }\n",
       "\n",
       "    .dataframe thead th {\n",
       "        text-align: right;\n",
       "    }\n",
       "</style>\n",
       "<table border=\"1\" class=\"dataframe\">\n",
       "  <thead>\n",
       "    <tr style=\"text-align: right;\">\n",
       "      <th></th>\n",
       "      <th>0</th>\n",
       "      <th>1</th>\n",
       "      <th>2</th>\n",
       "      <th>3</th>\n",
       "    </tr>\n",
       "  </thead>\n",
       "  <tbody>\n",
       "    <tr>\n",
       "      <th>0</th>\n",
       "      <td>never talk to me again</td>\n",
       "      <td>3</td>\n",
       "      <td>NaN</td>\n",
       "      <td>NaN</td>\n",
       "    </tr>\n",
       "    <tr>\n",
       "      <th>1</th>\n",
       "      <td>I am proud of your achievements</td>\n",
       "      <td>2</td>\n",
       "      <td>NaN</td>\n",
       "      <td>NaN</td>\n",
       "    </tr>\n",
       "    <tr>\n",
       "      <th>2</th>\n",
       "      <td>It is the worst day in my life</td>\n",
       "      <td>3</td>\n",
       "      <td>NaN</td>\n",
       "      <td>NaN</td>\n",
       "    </tr>\n",
       "    <tr>\n",
       "      <th>3</th>\n",
       "      <td>Miss you so much</td>\n",
       "      <td>0</td>\n",
       "      <td>NaN</td>\n",
       "      <td>[0]</td>\n",
       "    </tr>\n",
       "    <tr>\n",
       "      <th>4</th>\n",
       "      <td>food is life</td>\n",
       "      <td>4</td>\n",
       "      <td>NaN</td>\n",
       "      <td>NaN</td>\n",
       "    </tr>\n",
       "  </tbody>\n",
       "</table>\n",
       "</div>"
      ],
      "text/plain": [
       "                                 0  1   2     3\n",
       "0           never talk to me again  3 NaN   NaN\n",
       "1  I am proud of your achievements  2 NaN   NaN\n",
       "2   It is the worst day in my life  3 NaN   NaN\n",
       "3                 Miss you so much  0 NaN   [0]\n",
       "4                     food is life  4 NaN   NaN"
      ]
     },
     "execution_count": 7,
     "metadata": {},
     "output_type": "execute_result"
    }
   ],
   "source": [
    "train.head()"
   ]
  },
  {
   "cell_type": "code",
   "execution_count": 8,
   "id": "65518017-43ad-46a0-ab74-b2a435dc994f",
   "metadata": {},
   "outputs": [
    {
     "name": "stdout",
     "output_type": "stream",
     "text": [
      "never talk to me again ---> 😓\n",
      "I am proud of your achievements ---> 😁\n",
      "It is the worst day in my life ---> 😓\n",
      "Miss you so much ---> ❤️\n",
      "food is life ---> 🍴\n",
      "I love you mum ---> ❤️\n",
      "Stop saying bullshit ---> 😓\n",
      "congratulations on your acceptance ---> 😁\n",
      "The assignment is too long  ---> 😓\n",
      "I want to go play ---> ⚾\n",
      "she did not answer my text  ---> 😓\n",
      "Your stupidity has no limit ---> 😓\n",
      "how many points did he score ---> ⚾\n",
      "my algorithm performs poorly ---> 😓\n",
      "I got approved ---> 😁\n",
      "Stop shouting at me ---> 😓\n",
      "Sounds like a fun plan ha ha ---> 😁\n",
      "no one likes him ---> 😓\n",
      "the game just finished ---> ⚾\n",
      "I will celebrate soon ---> 😁\n",
      "So sad you are not coming ---> 😓\n",
      "She is my dearest love ---> ❤️\n",
      "Good job ---> 😁\n",
      "It was funny lol ---> 😁\n",
      "candy is life  ---> 😁\n",
      "The chicago cubs won again ---> ⚾\n",
      "I am hungry ---> 🍴\n",
      "I am so excited to see you after so long ---> 😁\n",
      "you did well on you exam ---> 😁\n",
      "lets brunch some day ---> 🍴\n"
     ]
    }
   ],
   "source": [
    "for i in range(30):\n",
    "    print(train.iloc[i,0],'--->',emoji.emojize(emoji_dictionary[str(train.iloc[i,1])]))"
   ]
  },
  {
   "cell_type": "code",
   "execution_count": 9,
   "id": "bc13c08e-32b8-4d99-b91b-aeac858f39d5",
   "metadata": {},
   "outputs": [],
   "source": [
    "embeddings = {}\n",
    "with open('E:/Projects/Glove/glove.6B.50d.txt',encoding='utf-8') as f:\n",
    "    for line in f:\n",
    "        values = line.split()\n",
    "        word = values[0]\n",
    "        vector = np.array(values[1:],dtype='f4')\n",
    "        embeddings[word] = vector"
   ]
  },
  {
   "cell_type": "code",
   "execution_count": 10,
   "id": "1afad919-00f3-4a08-8ec1-5a4577f22788",
   "metadata": {},
   "outputs": [
    {
     "name": "stdout",
     "output_type": "stream",
     "text": [
      "[ 4.1800e-01  2.4968e-01 -4.1242e-01  1.2170e-01  3.4527e-01 -4.4457e-02\n",
      " -4.9688e-01 -1.7862e-01 -6.6023e-04 -6.5660e-01  2.7843e-01 -1.4767e-01\n",
      " -5.5677e-01  1.4658e-01 -9.5095e-03  1.1658e-02  1.0204e-01 -1.2792e-01\n",
      " -8.4430e-01 -1.2181e-01 -1.6801e-02 -3.3279e-01 -1.5520e-01 -2.3131e-01\n",
      " -1.9181e-01 -1.8823e+00 -7.6746e-01  9.9051e-02 -4.2125e-01 -1.9526e-01\n",
      "  4.0071e+00 -1.8594e-01 -5.2287e-01 -3.1681e-01  5.9213e-04  7.4449e-03\n",
      "  1.7778e-01 -1.5897e-01  1.2041e-02 -5.4223e-02 -2.9871e-01 -1.5749e-01\n",
      " -3.4758e-01 -4.5637e-02 -4.4251e-01  1.8785e-01  2.7849e-03 -1.8411e-01\n",
      " -1.1514e-01 -7.8581e-01]\n"
     ]
    }
   ],
   "source": [
    "print(embeddings['the'])"
   ]
  },
  {
   "cell_type": "code",
   "execution_count": 11,
   "id": "0bb55040-e219-4fe8-b541-7160c6bb41f7",
   "metadata": {},
   "outputs": [
    {
     "name": "stdout",
     "output_type": "stream",
     "text": [
      "(132,)\n",
      "(56,)\n",
      "(132, 5)\n",
      "(56, 5)\n"
     ]
    }
   ],
   "source": [
    "from keras.utils import to_categorical\n",
    "\n",
    "X_train = train[0]\n",
    "X_test = test[0]\n",
    "\n",
    "y_train = to_categorical(train[1])\n",
    "y_test = to_categorical(test[1])\n",
    "\n",
    "print(X_train.shape)\n",
    "print(X_test.shape)\n",
    "print(y_train.shape)\n",
    "print(y_test.shape)"
   ]
  },
  {
   "cell_type": "code",
   "execution_count": 12,
   "id": "abb17cde-4aa5-44c5-b355-cea0c80d3831",
   "metadata": {},
   "outputs": [],
   "source": [
    "def getEmbeddings(X):\n",
    "    embeddingData = np.zeros((X.shape[0],10,50))\n",
    "    for ix in range(X.shape[0]):\n",
    "        words = X.iloc[ix].lower().split()\n",
    "        for jx in range(len(words)):\n",
    "            embeddingData[ix,jx,:] = embeddings[words[jx]]\n",
    "    return embeddingData"
   ]
  },
  {
   "cell_type": "code",
   "execution_count": 13,
   "id": "af278ba5-aed2-4b69-97e8-fd8d07f87fcb",
   "metadata": {},
   "outputs": [],
   "source": [
    "emb_XT = getEmbeddings(X_train)"
   ]
  },
  {
   "cell_type": "code",
   "execution_count": 14,
   "id": "113ad273-8dc7-4da1-9880-07511231b048",
   "metadata": {},
   "outputs": [
    {
     "name": "stdout",
     "output_type": "stream",
     "text": [
      "never talk to me again\n",
      "(132, 10, 50)\n"
     ]
    }
   ],
   "source": [
    "print(X_train[0])\n",
    "# print(embeddings['never'])\n",
    "# print(emb_XT[0][0])\n",
    "print(emb_XT.shape)"
   ]
  },
  {
   "cell_type": "code",
   "execution_count": 15,
   "id": "aa437b4d-db9b-4be2-a1d8-b4f94d3b399c",
   "metadata": {},
   "outputs": [],
   "source": [
    "emb_Xt = getEmbeddings(X_test)"
   ]
  },
  {
   "cell_type": "code",
   "execution_count": 16,
   "id": "aa706891-6af5-4200-9973-7e73553a6c19",
   "metadata": {},
   "outputs": [
    {
     "name": "stdout",
     "output_type": "stream",
     "text": [
      "(56, 10, 50)\n"
     ]
    }
   ],
   "source": [
    "print(emb_Xt.shape)"
   ]
  },
  {
   "cell_type": "code",
   "execution_count": 17,
   "id": "858bc4f1-5d09-414d-965c-f0c697fd4845",
   "metadata": {},
   "outputs": [],
   "source": [
    "from keras.layers import Dense,LSTM,Dropout\n",
    "from keras.models import Sequential\n",
    "from keras import Input"
   ]
  },
  {
   "cell_type": "code",
   "execution_count": 24,
   "id": "dae5414f-00b8-4fd8-9c15-e9c27716efc4",
   "metadata": {},
   "outputs": [
    {
     "data": {
      "text/html": [
       "<pre style=\"white-space:pre;overflow-x:auto;line-height:normal;font-family:Menlo,'DejaVu Sans Mono',consolas,'Courier New',monospace\"><span style=\"font-weight: bold\">Model: \"sequential_2\"</span>\n",
       "</pre>\n"
      ],
      "text/plain": [
       "\u001b[1mModel: \"sequential_2\"\u001b[0m\n"
      ]
     },
     "metadata": {},
     "output_type": "display_data"
    },
    {
     "data": {
      "text/html": [
       "<pre style=\"white-space:pre;overflow-x:auto;line-height:normal;font-family:Menlo,'DejaVu Sans Mono',consolas,'Courier New',monospace\">┏━━━━━━━━━━━━━━━━━━━━━━━━━━━━━━━━━━━━━━┳━━━━━━━━━━━━━━━━━━━━━━━━━━━━━┳━━━━━━━━━━━━━━━━━┓\n",
       "┃<span style=\"font-weight: bold\"> Layer (type)                         </span>┃<span style=\"font-weight: bold\"> Output Shape                </span>┃<span style=\"font-weight: bold\">         Param # </span>┃\n",
       "┡━━━━━━━━━━━━━━━━━━━━━━━━━━━━━━━━━━━━━━╇━━━━━━━━━━━━━━━━━━━━━━━━━━━━━╇━━━━━━━━━━━━━━━━━┩\n",
       "│ lstm_4 (<span style=\"color: #0087ff; text-decoration-color: #0087ff\">LSTM</span>)                        │ (<span style=\"color: #00d7ff; text-decoration-color: #00d7ff\">None</span>, <span style=\"color: #00af00; text-decoration-color: #00af00\">10</span>, <span style=\"color: #00af00; text-decoration-color: #00af00\">32</span>)              │          <span style=\"color: #00af00; text-decoration-color: #00af00\">10,624</span> │\n",
       "├──────────────────────────────────────┼─────────────────────────────┼─────────────────┤\n",
       "│ lstm_5 (<span style=\"color: #0087ff; text-decoration-color: #0087ff\">LSTM</span>)                        │ (<span style=\"color: #00d7ff; text-decoration-color: #00d7ff\">None</span>, <span style=\"color: #00af00; text-decoration-color: #00af00\">16</span>)                  │           <span style=\"color: #00af00; text-decoration-color: #00af00\">3,136</span> │\n",
       "├──────────────────────────────────────┼─────────────────────────────┼─────────────────┤\n",
       "│ dropout_1 (<span style=\"color: #0087ff; text-decoration-color: #0087ff\">Dropout</span>)                  │ (<span style=\"color: #00d7ff; text-decoration-color: #00d7ff\">None</span>, <span style=\"color: #00af00; text-decoration-color: #00af00\">16</span>)                  │               <span style=\"color: #00af00; text-decoration-color: #00af00\">0</span> │\n",
       "├──────────────────────────────────────┼─────────────────────────────┼─────────────────┤\n",
       "│ dense_4 (<span style=\"color: #0087ff; text-decoration-color: #0087ff\">Dense</span>)                      │ (<span style=\"color: #00d7ff; text-decoration-color: #00d7ff\">None</span>, <span style=\"color: #00af00; text-decoration-color: #00af00\">5</span>)                   │              <span style=\"color: #00af00; text-decoration-color: #00af00\">85</span> │\n",
       "└──────────────────────────────────────┴─────────────────────────────┴─────────────────┘\n",
       "</pre>\n"
      ],
      "text/plain": [
       "┏━━━━━━━━━━━━━━━━━━━━━━━━━━━━━━━━━━━━━━┳━━━━━━━━━━━━━━━━━━━━━━━━━━━━━┳━━━━━━━━━━━━━━━━━┓\n",
       "┃\u001b[1m \u001b[0m\u001b[1mLayer (type)                        \u001b[0m\u001b[1m \u001b[0m┃\u001b[1m \u001b[0m\u001b[1mOutput Shape               \u001b[0m\u001b[1m \u001b[0m┃\u001b[1m \u001b[0m\u001b[1m        Param #\u001b[0m\u001b[1m \u001b[0m┃\n",
       "┡━━━━━━━━━━━━━━━━━━━━━━━━━━━━━━━━━━━━━━╇━━━━━━━━━━━━━━━━━━━━━━━━━━━━━╇━━━━━━━━━━━━━━━━━┩\n",
       "│ lstm_4 (\u001b[38;5;33mLSTM\u001b[0m)                        │ (\u001b[38;5;45mNone\u001b[0m, \u001b[38;5;34m10\u001b[0m, \u001b[38;5;34m32\u001b[0m)              │          \u001b[38;5;34m10,624\u001b[0m │\n",
       "├──────────────────────────────────────┼─────────────────────────────┼─────────────────┤\n",
       "│ lstm_5 (\u001b[38;5;33mLSTM\u001b[0m)                        │ (\u001b[38;5;45mNone\u001b[0m, \u001b[38;5;34m16\u001b[0m)                  │           \u001b[38;5;34m3,136\u001b[0m │\n",
       "├──────────────────────────────────────┼─────────────────────────────┼─────────────────┤\n",
       "│ dropout_1 (\u001b[38;5;33mDropout\u001b[0m)                  │ (\u001b[38;5;45mNone\u001b[0m, \u001b[38;5;34m16\u001b[0m)                  │               \u001b[38;5;34m0\u001b[0m │\n",
       "├──────────────────────────────────────┼─────────────────────────────┼─────────────────┤\n",
       "│ dense_4 (\u001b[38;5;33mDense\u001b[0m)                      │ (\u001b[38;5;45mNone\u001b[0m, \u001b[38;5;34m5\u001b[0m)                   │              \u001b[38;5;34m85\u001b[0m │\n",
       "└──────────────────────────────────────┴─────────────────────────────┴─────────────────┘\n"
      ]
     },
     "metadata": {},
     "output_type": "display_data"
    },
    {
     "data": {
      "text/html": [
       "<pre style=\"white-space:pre;overflow-x:auto;line-height:normal;font-family:Menlo,'DejaVu Sans Mono',consolas,'Courier New',monospace\"><span style=\"font-weight: bold\"> Total params: </span><span style=\"color: #00af00; text-decoration-color: #00af00\">13,845</span> (54.08 KB)\n",
       "</pre>\n"
      ],
      "text/plain": [
       "\u001b[1m Total params: \u001b[0m\u001b[38;5;34m13,845\u001b[0m (54.08 KB)\n"
      ]
     },
     "metadata": {},
     "output_type": "display_data"
    },
    {
     "data": {
      "text/html": [
       "<pre style=\"white-space:pre;overflow-x:auto;line-height:normal;font-family:Menlo,'DejaVu Sans Mono',consolas,'Courier New',monospace\"><span style=\"font-weight: bold\"> Trainable params: </span><span style=\"color: #00af00; text-decoration-color: #00af00\">13,845</span> (54.08 KB)\n",
       "</pre>\n"
      ],
      "text/plain": [
       "\u001b[1m Trainable params: \u001b[0m\u001b[38;5;34m13,845\u001b[0m (54.08 KB)\n"
      ]
     },
     "metadata": {},
     "output_type": "display_data"
    },
    {
     "data": {
      "text/html": [
       "<pre style=\"white-space:pre;overflow-x:auto;line-height:normal;font-family:Menlo,'DejaVu Sans Mono',consolas,'Courier New',monospace\"><span style=\"font-weight: bold\"> Non-trainable params: </span><span style=\"color: #00af00; text-decoration-color: #00af00\">0</span> (0.00 B)\n",
       "</pre>\n"
      ],
      "text/plain": [
       "\u001b[1m Non-trainable params: \u001b[0m\u001b[38;5;34m0\u001b[0m (0.00 B)\n"
      ]
     },
     "metadata": {},
     "output_type": "display_data"
    }
   ],
   "source": [
    "model = Sequential()\n",
    "model.add(Input(shape=(10,50)))\n",
    "model.add(LSTM(32,return_sequences=True))\n",
    "model.add(LSTM(16))\n",
    "# model.add(Dropout(0.3))\n",
    "# model.add(Dense(10,activation='tanh'))\n",
    "model.add(Dropout(0.3))\n",
    "model.add(Dense(5,activation='softmax'))\n",
    "model.summary()"
   ]
  },
  {
   "cell_type": "code",
   "execution_count": 25,
   "id": "e0c886f3-935d-4789-a7d3-1f74b54df26e",
   "metadata": {
    "scrolled": true
   },
   "outputs": [
    {
     "name": "stdout",
     "output_type": "stream",
     "text": [
      "Epoch 1/40\n",
      "\u001b[1m4/4\u001b[0m \u001b[32m━━━━━━━━━━━━━━━━━━━━\u001b[0m\u001b[37m\u001b[0m \u001b[1m3s\u001b[0m 143ms/step - accuracy: 0.1600 - loss: 1.6379 - val_accuracy: 0.2143 - val_loss: 1.6224\n",
      "Epoch 2/40\n",
      "\u001b[1m4/4\u001b[0m \u001b[32m━━━━━━━━━━━━━━━━━━━━\u001b[0m\u001b[37m\u001b[0m \u001b[1m0s\u001b[0m 25ms/step - accuracy: 0.2129 - loss: 1.5910 - val_accuracy: 0.0714 - val_loss: 1.5961\n",
      "Epoch 3/40\n",
      "\u001b[1m4/4\u001b[0m \u001b[32m━━━━━━━━━━━━━━━━━━━━\u001b[0m\u001b[37m\u001b[0m \u001b[1m0s\u001b[0m 26ms/step - accuracy: 0.4791 - loss: 1.5417 - val_accuracy: 0.2857 - val_loss: 1.5805\n",
      "Epoch 4/40\n",
      "\u001b[1m4/4\u001b[0m \u001b[32m━━━━━━━━━━━━━━━━━━━━\u001b[0m\u001b[37m\u001b[0m \u001b[1m0s\u001b[0m 27ms/step - accuracy: 0.3909 - loss: 1.5354 - val_accuracy: 0.2857 - val_loss: 1.5632\n",
      "Epoch 5/40\n",
      "\u001b[1m4/4\u001b[0m \u001b[32m━━━━━━━━━━━━━━━━━━━━\u001b[0m\u001b[37m\u001b[0m \u001b[1m0s\u001b[0m 26ms/step - accuracy: 0.4505 - loss: 1.4924 - val_accuracy: 0.2857 - val_loss: 1.5517\n",
      "Epoch 6/40\n",
      "\u001b[1m4/4\u001b[0m \u001b[32m━━━━━━━━━━━━━━━━━━━━\u001b[0m\u001b[37m\u001b[0m \u001b[1m0s\u001b[0m 24ms/step - accuracy: 0.4646 - loss: 1.4864 - val_accuracy: 0.3571 - val_loss: 1.5423\n",
      "Epoch 7/40\n",
      "\u001b[1m4/4\u001b[0m \u001b[32m━━━━━━━━━━━━━━━━━━━━\u001b[0m\u001b[37m\u001b[0m \u001b[1m0s\u001b[0m 25ms/step - accuracy: 0.4383 - loss: 1.4518 - val_accuracy: 0.4286 - val_loss: 1.5179\n",
      "Epoch 8/40\n",
      "\u001b[1m4/4\u001b[0m \u001b[32m━━━━━━━━━━━━━━━━━━━━\u001b[0m\u001b[37m\u001b[0m \u001b[1m0s\u001b[0m 24ms/step - accuracy: 0.5490 - loss: 1.3860 - val_accuracy: 0.4286 - val_loss: 1.4892\n",
      "Epoch 9/40\n",
      "\u001b[1m4/4\u001b[0m \u001b[32m━━━━━━━━━━━━━━━━━━━━\u001b[0m\u001b[37m\u001b[0m \u001b[1m0s\u001b[0m 25ms/step - accuracy: 0.5763 - loss: 1.3457 - val_accuracy: 0.3571 - val_loss: 1.4550\n",
      "Epoch 10/40\n",
      "\u001b[1m4/4\u001b[0m \u001b[32m━━━━━━━━━━━━━━━━━━━━\u001b[0m\u001b[37m\u001b[0m \u001b[1m0s\u001b[0m 25ms/step - accuracy: 0.5667 - loss: 1.3192 - val_accuracy: 0.3571 - val_loss: 1.4144\n",
      "Epoch 11/40\n",
      "\u001b[1m4/4\u001b[0m \u001b[32m━━━━━━━━━━━━━━━━━━━━\u001b[0m\u001b[37m\u001b[0m \u001b[1m0s\u001b[0m 25ms/step - accuracy: 0.6097 - loss: 1.2828 - val_accuracy: 0.3571 - val_loss: 1.3849\n",
      "Epoch 12/40\n",
      "\u001b[1m4/4\u001b[0m \u001b[32m━━━━━━━━━━━━━━━━━━━━\u001b[0m\u001b[37m\u001b[0m \u001b[1m0s\u001b[0m 24ms/step - accuracy: 0.5967 - loss: 1.2251 - val_accuracy: 0.3571 - val_loss: 1.3337\n",
      "Epoch 13/40\n",
      "\u001b[1m4/4\u001b[0m \u001b[32m━━━━━━━━━━━━━━━━━━━━\u001b[0m\u001b[37m\u001b[0m \u001b[1m0s\u001b[0m 25ms/step - accuracy: 0.7045 - loss: 1.1025 - val_accuracy: 0.5000 - val_loss: 1.3142\n",
      "Epoch 14/40\n",
      "\u001b[1m4/4\u001b[0m \u001b[32m━━━━━━━━━━━━━━━━━━━━\u001b[0m\u001b[37m\u001b[0m \u001b[1m0s\u001b[0m 25ms/step - accuracy: 0.7254 - loss: 1.0831 - val_accuracy: 0.5714 - val_loss: 1.2257\n",
      "Epoch 15/40\n",
      "\u001b[1m4/4\u001b[0m \u001b[32m━━━━━━━━━━━━━━━━━━━━\u001b[0m\u001b[37m\u001b[0m \u001b[1m0s\u001b[0m 27ms/step - accuracy: 0.6139 - loss: 1.0315 - val_accuracy: 0.6429 - val_loss: 1.1632\n",
      "Epoch 16/40\n",
      "\u001b[1m4/4\u001b[0m \u001b[32m━━━━━━━━━━━━━━━━━━━━\u001b[0m\u001b[37m\u001b[0m \u001b[1m0s\u001b[0m 25ms/step - accuracy: 0.7358 - loss: 0.9492 - val_accuracy: 0.5000 - val_loss: 1.2233\n",
      "Epoch 17/40\n",
      "\u001b[1m4/4\u001b[0m \u001b[32m━━━━━━━━━━━━━━━━━━━━\u001b[0m\u001b[37m\u001b[0m \u001b[1m0s\u001b[0m 25ms/step - accuracy: 0.7697 - loss: 0.9172 - val_accuracy: 0.6429 - val_loss: 1.0795\n",
      "Epoch 18/40\n",
      "\u001b[1m4/4\u001b[0m \u001b[32m━━━━━━━━━━━━━━━━━━━━\u001b[0m\u001b[37m\u001b[0m \u001b[1m0s\u001b[0m 25ms/step - accuracy: 0.7249 - loss: 0.8643 - val_accuracy: 0.5714 - val_loss: 1.1243\n",
      "Epoch 19/40\n",
      "\u001b[1m4/4\u001b[0m \u001b[32m━━━━━━━━━━━━━━━━━━━━\u001b[0m\u001b[37m\u001b[0m \u001b[1m0s\u001b[0m 26ms/step - accuracy: 0.8132 - loss: 0.7895 - val_accuracy: 0.6429 - val_loss: 0.9737\n",
      "Epoch 20/40\n",
      "\u001b[1m4/4\u001b[0m \u001b[32m━━━━━━━━━━━━━━━━━━━━\u001b[0m\u001b[37m\u001b[0m \u001b[1m0s\u001b[0m 28ms/step - accuracy: 0.8395 - loss: 0.7798 - val_accuracy: 0.5714 - val_loss: 1.0384\n",
      "Epoch 21/40\n",
      "\u001b[1m4/4\u001b[0m \u001b[32m━━━━━━━━━━━━━━━━━━━━\u001b[0m\u001b[37m\u001b[0m \u001b[1m0s\u001b[0m 26ms/step - accuracy: 0.8590 - loss: 0.6176 - val_accuracy: 0.5714 - val_loss: 1.0834\n",
      "Epoch 22/40\n",
      "\u001b[1m4/4\u001b[0m \u001b[32m━━━━━━━━━━━━━━━━━━━━\u001b[0m\u001b[37m\u001b[0m \u001b[1m0s\u001b[0m 28ms/step - accuracy: 0.8726 - loss: 0.5586 - val_accuracy: 0.5714 - val_loss: 0.9712\n",
      "Epoch 23/40\n",
      "\u001b[1m4/4\u001b[0m \u001b[32m━━━━━━━━━━━━━━━━━━━━\u001b[0m\u001b[37m\u001b[0m \u001b[1m0s\u001b[0m 25ms/step - accuracy: 0.9031 - loss: 0.5221 - val_accuracy: 0.7143 - val_loss: 0.9708\n",
      "Epoch 24/40\n",
      "\u001b[1m4/4\u001b[0m \u001b[32m━━━━━━━━━━━━━━━━━━━━\u001b[0m\u001b[37m\u001b[0m \u001b[1m0s\u001b[0m 26ms/step - accuracy: 0.8911 - loss: 0.4605 - val_accuracy: 0.6429 - val_loss: 0.9373\n",
      "Epoch 25/40\n",
      "\u001b[1m4/4\u001b[0m \u001b[32m━━━━━━━━━━━━━━━━━━━━\u001b[0m\u001b[37m\u001b[0m \u001b[1m0s\u001b[0m 24ms/step - accuracy: 0.8807 - loss: 0.4573 - val_accuracy: 0.5000 - val_loss: 1.0473\n",
      "Epoch 26/40\n",
      "\u001b[1m4/4\u001b[0m \u001b[32m━━━━━━━━━━━━━━━━━━━━\u001b[0m\u001b[37m\u001b[0m \u001b[1m0s\u001b[0m 24ms/step - accuracy: 0.9033 - loss: 0.4448 - val_accuracy: 0.5714 - val_loss: 1.0634\n",
      "Epoch 27/40\n",
      "\u001b[1m4/4\u001b[0m \u001b[32m━━━━━━━━━━━━━━━━━━━━\u001b[0m\u001b[37m\u001b[0m \u001b[1m0s\u001b[0m 24ms/step - accuracy: 0.8669 - loss: 0.4189 - val_accuracy: 0.5714 - val_loss: 0.9230\n",
      "Epoch 28/40\n",
      "\u001b[1m4/4\u001b[0m \u001b[32m━━━━━━━━━━━━━━━━━━━━\u001b[0m\u001b[37m\u001b[0m \u001b[1m0s\u001b[0m 26ms/step - accuracy: 0.9239 - loss: 0.3721 - val_accuracy: 0.5714 - val_loss: 0.9629\n",
      "Epoch 29/40\n",
      "\u001b[1m4/4\u001b[0m \u001b[32m━━━━━━━━━━━━━━━━━━━━\u001b[0m\u001b[37m\u001b[0m \u001b[1m0s\u001b[0m 27ms/step - accuracy: 0.9367 - loss: 0.3584 - val_accuracy: 0.5714 - val_loss: 1.0890\n",
      "Epoch 30/40\n",
      "\u001b[1m4/4\u001b[0m \u001b[32m━━━━━━━━━━━━━━━━━━━━\u001b[0m\u001b[37m\u001b[0m \u001b[1m0s\u001b[0m 25ms/step - accuracy: 0.8968 - loss: 0.3547 - val_accuracy: 0.5714 - val_loss: 1.0113\n",
      "Epoch 31/40\n",
      "\u001b[1m4/4\u001b[0m \u001b[32m━━━━━━━━━━━━━━━━━━━━\u001b[0m\u001b[37m\u001b[0m \u001b[1m0s\u001b[0m 26ms/step - accuracy: 0.9523 - loss: 0.3480 - val_accuracy: 0.5714 - val_loss: 1.1245\n",
      "Epoch 32/40\n",
      "\u001b[1m4/4\u001b[0m \u001b[32m━━━━━━━━━━━━━━━━━━━━\u001b[0m\u001b[37m\u001b[0m \u001b[1m0s\u001b[0m 46ms/step - accuracy: 0.9481 - loss: 0.2935 - val_accuracy: 0.5000 - val_loss: 0.9031\n",
      "Epoch 33/40\n",
      "\u001b[1m4/4\u001b[0m \u001b[32m━━━━━━━━━━━━━━━━━━━━\u001b[0m\u001b[37m\u001b[0m \u001b[1m0s\u001b[0m 31ms/step - accuracy: 0.9325 - loss: 0.3209 - val_accuracy: 0.5000 - val_loss: 0.8905\n",
      "Epoch 34/40\n",
      "\u001b[1m4/4\u001b[0m \u001b[32m━━━━━━━━━━━━━━━━━━━━\u001b[0m\u001b[37m\u001b[0m \u001b[1m0s\u001b[0m 27ms/step - accuracy: 0.9112 - loss: 0.2955 - val_accuracy: 0.5714 - val_loss: 0.8528\n",
      "Epoch 35/40\n",
      "\u001b[1m4/4\u001b[0m \u001b[32m━━━━━━━━━━━━━━━━━━━━\u001b[0m\u001b[37m\u001b[0m \u001b[1m0s\u001b[0m 25ms/step - accuracy: 0.9247 - loss: 0.2912 - val_accuracy: 0.7143 - val_loss: 0.8638\n",
      "Epoch 36/40\n",
      "\u001b[1m4/4\u001b[0m \u001b[32m━━━━━━━━━━━━━━━━━━━━\u001b[0m\u001b[37m\u001b[0m \u001b[1m0s\u001b[0m 25ms/step - accuracy: 0.9224 - loss: 0.2739 - val_accuracy: 0.5000 - val_loss: 1.1725\n",
      "Epoch 37/40\n",
      "\u001b[1m4/4\u001b[0m \u001b[32m━━━━━━━━━━━━━━━━━━━━\u001b[0m\u001b[37m\u001b[0m \u001b[1m0s\u001b[0m 25ms/step - accuracy: 0.9469 - loss: 0.2678 - val_accuracy: 0.7143 - val_loss: 0.7679\n",
      "Epoch 38/40\n",
      "\u001b[1m4/4\u001b[0m \u001b[32m━━━━━━━━━━━━━━━━━━━━\u001b[0m\u001b[37m\u001b[0m \u001b[1m0s\u001b[0m 25ms/step - accuracy: 0.9466 - loss: 0.2380 - val_accuracy: 0.7143 - val_loss: 0.9042\n",
      "Epoch 39/40\n",
      "\u001b[1m4/4\u001b[0m \u001b[32m━━━━━━━━━━━━━━━━━━━━\u001b[0m\u001b[37m\u001b[0m \u001b[1m0s\u001b[0m 26ms/step - accuracy: 0.9620 - loss: 0.2087 - val_accuracy: 0.6429 - val_loss: 1.1845\n",
      "Epoch 40/40\n",
      "\u001b[1m4/4\u001b[0m \u001b[32m━━━━━━━━━━━━━━━━━━━━\u001b[0m\u001b[37m\u001b[0m \u001b[1m0s\u001b[0m 24ms/step - accuracy: 0.9763 - loss: 0.2000 - val_accuracy: 0.7143 - val_loss: 0.7479\n"
     ]
    },
    {
     "data": {
      "text/plain": [
       "<keras.src.callbacks.history.History at 0x24937c30c20>"
      ]
     },
     "execution_count": 25,
     "metadata": {},
     "output_type": "execute_result"
    }
   ],
   "source": [
    "model.compile(\n",
    "    optimizer='adam',\n",
    "    loss='categorical_crossentropy',\n",
    "    metrics=['accuracy'])\n",
    "model.fit(emb_XT,y_train,batch_size=32,epochs=40,shuffle=True,validation_split=0.1)"
   ]
  },
  {
   "cell_type": "code",
   "execution_count": 29,
   "id": "a6599708-61cc-40a8-b738-7b70a799aac0",
   "metadata": {},
   "outputs": [
    {
     "name": "stdout",
     "output_type": "stream",
     "text": [
      "\u001b[1m2/2\u001b[0m \u001b[32m━━━━━━━━━━━━━━━━━━━━\u001b[0m\u001b[37m\u001b[0m \u001b[1m0s\u001b[0m 20ms/step - accuracy: 0.6711 - loss: 1.3046\n"
     ]
    },
    {
     "data": {
      "text/plain": [
       "[1.2407695055007935, 0.6785714030265808]"
      ]
     },
     "execution_count": 29,
     "metadata": {},
     "output_type": "execute_result"
    }
   ],
   "source": [
    "model.evaluate(emb_Xt,y_test)"
   ]
  },
  {
   "cell_type": "code",
   "execution_count": 30,
   "id": "e73d8591-7592-4e26-98bf-7c247f127341",
   "metadata": {},
   "outputs": [
    {
     "name": "stdout",
     "output_type": "stream",
     "text": [
      "\u001b[1m2/2\u001b[0m \u001b[32m━━━━━━━━━━━━━━━━━━━━\u001b[0m\u001b[37m\u001b[0m \u001b[1m0s\u001b[0m 19ms/step\n"
     ]
    }
   ],
   "source": [
    "ypred = model.predict(emb_Xt)"
   ]
  },
  {
   "cell_type": "code",
   "execution_count": 31,
   "id": "6e7c5ddf-b30b-4290-a54a-766148a77967",
   "metadata": {},
   "outputs": [
    {
     "name": "stdout",
     "output_type": "stream",
     "text": [
      "I want to eat\t\n",
      "🍴\n",
      "🍴\n",
      "he did not answer\t\n",
      "😓\n",
      "😓\n",
      "he got a raise\t\n",
      "😁\n",
      "😓\n",
      "she got me a present\t\n",
      "❤️\n",
      "❤️\n",
      "ha ha ha it was so funny\t\n",
      "😁\n",
      "😁\n",
      "he is a good friend\t\n",
      "❤️\n",
      "😁\n",
      "I am upset\t\n",
      "❤️\n",
      "😓\n",
      "We had such a lovely dinner tonight\t\n",
      "❤️\n",
      "😁\n",
      "where is the food\t\n",
      "🍴\n",
      "🍴\n",
      "Stop making this joke ha ha ha\t\n",
      "😁\n",
      "😁\n",
      "where is the ball\t\n",
      "⚾\n",
      "⚾\n",
      "work is hard\t\n",
      "😓\n",
      "😁\n",
      "This girl is messing with me\t\n",
      "😓\n",
      "😓\n",
      "are you serious ha ha\t\n",
      "😁\n",
      "❤️\n",
      "Let us go play baseball\t\n",
      "⚾\n",
      "⚾\n",
      "This stupid grader is not working \t\n",
      "😓\n",
      "😓\n",
      "work is horrible\t\n",
      "😓\n",
      "😓\n",
      "Congratulation for having a baby\t\n",
      "😁\n",
      "😁\n",
      "stop messing around\t\n",
      "😓\n",
      "😓\n",
      "any suggestions for dinner\t\n",
      "🍴\n",
      "🍴\n",
      "I love taking breaks\t\n",
      "❤️\n",
      "❤️\n",
      "you brighten my day\t\n",
      "😁\n",
      "❤️\n",
      "I boiled rice\t\n",
      "🍴\n",
      "🍴\n",
      "she is a bully\t\n",
      "😓\n",
      "❤️\n",
      "Why are you feeling bad\t\n",
      "😓\n",
      "😓\n",
      "I am upset\t\n",
      "😓\n",
      "😓\n",
      "I worked during my birthday\t\n",
      "😓\n",
      "😁\n",
      "My grandmother is the love of my life\t\n",
      "❤️\n",
      "❤️\n",
      "enjoy your break\t\n",
      "😁\n",
      "😓\n",
      "valentine day is near\t\n",
      "❤️\n",
      "😁\n"
     ]
    }
   ],
   "source": [
    "for i in range(30):\n",
    "    print(X_test.iloc[i])\n",
    "    print(emoji.emojize(emoji_dictionary[str(np.argmax(y_test[i]))]))\n",
    "    print(emoji.emojize(emoji_dictionary[str(np.argmax(ypred[i]))]))"
   ]
  },
  {
   "cell_type": "code",
   "execution_count": null,
   "id": "3e9cb3ae-dbe0-4a86-8145-6783b6ec3a78",
   "metadata": {},
   "outputs": [],
   "source": []
  }
 ],
 "metadata": {
  "kernelspec": {
   "display_name": "Python 3 (ipykernel)",
   "language": "python",
   "name": "python3"
  },
  "language_info": {
   "codemirror_mode": {
    "name": "ipython",
    "version": 3
   },
   "file_extension": ".py",
   "mimetype": "text/x-python",
   "name": "python",
   "nbconvert_exporter": "python",
   "pygments_lexer": "ipython3",
   "version": "3.12.9"
  }
 },
 "nbformat": 4,
 "nbformat_minor": 5
}
