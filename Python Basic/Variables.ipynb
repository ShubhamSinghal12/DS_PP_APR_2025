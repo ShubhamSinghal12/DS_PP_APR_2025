{
 "cells": [
  {
   "cell_type": "code",
   "execution_count": 3,
   "id": "97059173-46ba-47ec-a7f3-97cfbec5f287",
   "metadata": {},
   "outputs": [
    {
     "name": "stdout",
     "output_type": "stream",
     "text": [
      "Hello World\n"
     ]
    }
   ],
   "source": [
    "print('Hello World')"
   ]
  },
  {
   "cell_type": "raw",
   "id": "086df79d-d234-4d0b-8238-d0f1a6d34085",
   "metadata": {},
   "source": [
    "Hello World"
   ]
  },
  {
   "cell_type": "markdown",
   "id": "dd0b8454-c1fc-4af7-914d-255ddb5aebca",
   "metadata": {},
   "source": [
    "# Hello World"
   ]
  },
  {
   "cell_type": "markdown",
   "id": "66505077-b030-4bb9-8c50-a10051d95f0c",
   "metadata": {},
   "source": [
    "## Hello World"
   ]
  },
  {
   "cell_type": "markdown",
   "id": "1fd6288f-38e1-47f8-bd85-cd9719d6534b",
   "metadata": {},
   "source": [
    "- 1\n",
    "- 2\n",
    "- 3\n",
    "- 4\n",
    "- 5\n",
    "- 6"
   ]
  },
  {
   "cell_type": "code",
   "execution_count": null,
   "id": "0b2b17ee-d1b1-4bf8-8693-17583713a359",
   "metadata": {},
   "outputs": [],
   "source": []
  }
 ],
 "metadata": {
  "kernelspec": {
   "display_name": "Python 3 (ipykernel)",
   "language": "python",
   "name": "python3"
  },
  "language_info": {
   "codemirror_mode": {
    "name": "ipython",
    "version": 3
   },
   "file_extension": ".py",
   "mimetype": "text/x-python",
   "name": "python",
   "nbconvert_exporter": "python",
   "pygments_lexer": "ipython3",
   "version": "3.12.9"
  }
 },
 "nbformat": 4,
 "nbformat_minor": 5
}
