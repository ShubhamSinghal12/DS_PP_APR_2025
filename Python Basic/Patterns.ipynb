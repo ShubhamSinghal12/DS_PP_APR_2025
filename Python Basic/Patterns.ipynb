{
 "cells": [
  {
   "cell_type": "markdown",
   "id": "95beba2c-3eb4-4a04-a933-47a392ce1a0a",
   "metadata": {},
   "source": [
    "## Patterns\n",
    "Refer Patterns PDF"
   ]
  },
  {
   "cell_type": "code",
   "execution_count": 1,
   "id": "df22797a-8aa7-4f88-bf29-b11489b9fe00",
   "metadata": {},
   "outputs": [
    {
     "name": "stdout",
     "output_type": "stream",
     "text": [
      "* * * * *\n"
     ]
    }
   ],
   "source": [
    "print('* * * * *')"
   ]
  },
  {
   "cell_type": "code",
   "execution_count": 4,
   "id": "f2bb932f-1c43-4d74-8b06-30388e1d2162",
   "metadata": {},
   "outputs": [
    {
     "name": "stdout",
     "output_type": "stream",
     "text": [
      "* * * * * "
     ]
    }
   ],
   "source": [
    "nst = 5\n",
    "cst = 1\n",
    "while cst <= nst:\n",
    "    print('*',end = ' ')\n",
    "    cst += 1"
   ]
  },
  {
   "cell_type": "code",
   "execution_count": null,
   "id": "cd19fc8c-ddd7-4a5e-a869-4b8c477399f6",
   "metadata": {},
   "outputs": [],
   "source": []
  },
  {
   "cell_type": "code",
   "execution_count": 8,
   "id": "77c62050-f2e6-4f59-ad7a-8439e9311703",
   "metadata": {},
   "outputs": [
    {
     "name": "stdout",
     "output_type": "stream",
     "text": [
      "* * * * * * * \n",
      "* * * * * * * \n",
      "* * * * * * * \n",
      "* * * * * * * \n",
      "* * * * * * * \n",
      "* * * * * * * \n",
      "* * * * * * * \n"
     ]
    }
   ],
   "source": [
    "N = 7\n",
    "nst = N\n",
    "row = 1\n",
    "while row <= N:\n",
    "    cst = 1\n",
    "    while cst <= nst:\n",
    "        print('*',end = ' ')\n",
    "        cst += 1\n",
    "\n",
    "    row += 1\n",
    "    print()"
   ]
  },
  {
   "cell_type": "code",
   "execution_count": 9,
   "id": "062ba363-6716-4f30-a169-aa7cc10522cf",
   "metadata": {},
   "outputs": [
    {
     "name": "stdout",
     "output_type": "stream",
     "text": [
      "* \n",
      "* * \n",
      "* * * \n",
      "* * * * \n",
      "* * * * * \n"
     ]
    }
   ],
   "source": [
    "N = 5\n",
    "nst = 1\n",
    "row = 1\n",
    "while row <= N:\n",
    "    cst = 1\n",
    "    while cst <= nst:\n",
    "        print('*',end = ' ')\n",
    "        cst += 1\n",
    "\n",
    "    nst += 1\n",
    "    row += 1\n",
    "    print()"
   ]
  },
  {
   "cell_type": "code",
   "execution_count": 10,
   "id": "1c7916fe-76db-46a0-b747-0323be83c303",
   "metadata": {},
   "outputs": [
    {
     "name": "stdout",
     "output_type": "stream",
     "text": [
      "* * * * * \n",
      "* * * * \n",
      "* * * \n",
      "* * \n",
      "* \n"
     ]
    }
   ],
   "source": [
    "N = 5\n",
    "nst = N\n",
    "row = 1\n",
    "while row <= N:\n",
    "    cst = 1\n",
    "    while cst <= nst:\n",
    "        print('*',end = ' ')\n",
    "        cst += 1\n",
    "\n",
    "    nst -= 1\n",
    "    row += 1\n",
    "    print()"
   ]
  },
  {
   "cell_type": "code",
   "execution_count": 11,
   "id": "4c4ea0f5-f602-495d-99c0-6b4c5c89ec11",
   "metadata": {},
   "outputs": [
    {
     "name": "stdout",
     "output_type": "stream",
     "text": [
      "        * \n",
      "      * * \n",
      "    * * * \n",
      "  * * * * \n",
      "* * * * * \n"
     ]
    }
   ],
   "source": [
    "N = 5\n",
    "nsp = N-1\n",
    "nst = 1\n",
    "row = 1\n",
    "while row <= N:\n",
    "    csp = 1\n",
    "    while csp <= nsp:\n",
    "        print(\" \",end=\" \")\n",
    "        csp += 1\n",
    "\n",
    "    cst = 1\n",
    "    while cst <= nst:\n",
    "        print(\"*\",end = \" \")\n",
    "        cst += 1\n",
    "\n",
    "    nsp -= 1\n",
    "    nst += 1\n",
    "    row += 1\n",
    "    print()"
   ]
  },
  {
   "cell_type": "code",
   "execution_count": null,
   "id": "184f1fcf-8e7a-4e12-bb29-6442d43aee88",
   "metadata": {},
   "outputs": [],
   "source": []
  },
  {
   "cell_type": "code",
   "execution_count": null,
   "id": "fac3dcdb-88a3-48f1-bdaf-474edd8f96c3",
   "metadata": {},
   "outputs": [],
   "source": []
  },
  {
   "cell_type": "code",
   "execution_count": null,
   "id": "27bea20d-12ff-47f7-8583-21b09cece067",
   "metadata": {},
   "outputs": [],
   "source": []
  }
 ],
 "metadata": {
  "kernelspec": {
   "display_name": "Python 3 (ipykernel)",
   "language": "python",
   "name": "python3"
  },
  "language_info": {
   "codemirror_mode": {
    "name": "ipython",
    "version": 3
   },
   "file_extension": ".py",
   "mimetype": "text/x-python",
   "name": "python",
   "nbconvert_exporter": "python",
   "pygments_lexer": "ipython3",
   "version": "3.12.9"
  }
 },
 "nbformat": 4,
 "nbformat_minor": 5
}
