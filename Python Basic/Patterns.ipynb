{
 "cells": [
  {
   "cell_type": "markdown",
   "id": "95beba2c-3eb4-4a04-a933-47a392ce1a0a",
   "metadata": {},
   "source": [
    "## Patterns\n",
    "Refer Patterns PDF"
   ]
  },
  {
   "cell_type": "code",
   "execution_count": 1,
   "id": "df22797a-8aa7-4f88-bf29-b11489b9fe00",
   "metadata": {},
   "outputs": [
    {
     "name": "stdout",
     "output_type": "stream",
     "text": [
      "* * * * *\n"
     ]
    }
   ],
   "source": [
    "print('* * * * *')"
   ]
  },
  {
   "cell_type": "code",
   "execution_count": 4,
   "id": "f2bb932f-1c43-4d74-8b06-30388e1d2162",
   "metadata": {},
   "outputs": [
    {
     "name": "stdout",
     "output_type": "stream",
     "text": [
      "* * * * * "
     ]
    }
   ],
   "source": [
    "nst = 5\n",
    "cst = 1\n",
    "while cst <= nst:\n",
    "    print('*',end = ' ')\n",
    "    cst += 1"
   ]
  },
  {
   "cell_type": "code",
   "execution_count": null,
   "id": "cd19fc8c-ddd7-4a5e-a869-4b8c477399f6",
   "metadata": {},
   "outputs": [],
   "source": []
  },
  {
   "cell_type": "code",
   "execution_count": 8,
   "id": "77c62050-f2e6-4f59-ad7a-8439e9311703",
   "metadata": {},
   "outputs": [
    {
     "name": "stdout",
     "output_type": "stream",
     "text": [
      "* * * * * * * \n",
      "* * * * * * * \n",
      "* * * * * * * \n",
      "* * * * * * * \n",
      "* * * * * * * \n",
      "* * * * * * * \n",
      "* * * * * * * \n"
     ]
    }
   ],
   "source": [
    "N = 7\n",
    "nst = N\n",
    "row = 1\n",
    "while row <= N:\n",
    "    cst = 1\n",
    "    while cst <= nst:\n",
    "        print('*',end = ' ')\n",
    "        cst += 1\n",
    "\n",
    "    row += 1\n",
    "    print()"
   ]
  },
  {
   "cell_type": "code",
   "execution_count": 18,
   "id": "062ba363-6716-4f30-a169-aa7cc10522cf",
   "metadata": {},
   "outputs": [
    {
     "name": "stdout",
     "output_type": "stream",
     "text": [
      "* \n",
      "* * \n",
      "* * * \n",
      "* * * * \n",
      "* * * * * \n"
     ]
    }
   ],
   "source": [
    "N = 5\n",
    "nst = 1\n",
    "row = 1\n",
    "while row <= N:\n",
    "    cst = 1\n",
    "    while cst <= nst:\n",
    "        print('*',end = ' ')\n",
    "        cst += 1\n",
    "\n",
    "    nst += 1\n",
    "    row += 1\n",
    "    print()"
   ]
  },
  {
   "cell_type": "code",
   "execution_count": 10,
   "id": "1c7916fe-76db-46a0-b747-0323be83c303",
   "metadata": {},
   "outputs": [
    {
     "name": "stdout",
     "output_type": "stream",
     "text": [
      "* * * * * \n",
      "* * * * \n",
      "* * * \n",
      "* * \n",
      "* \n"
     ]
    }
   ],
   "source": [
    "N = 5\n",
    "nst = N\n",
    "row = 1\n",
    "while row <= N:\n",
    "    cst = 1\n",
    "    while cst <= nst:\n",
    "        print('*',end = ' ')\n",
    "        cst += 1\n",
    "\n",
    "    nst -= 1\n",
    "    row += 1\n",
    "    print()"
   ]
  },
  {
   "cell_type": "code",
   "execution_count": 21,
   "id": "4c4ea0f5-f602-495d-99c0-6b4c5c89ec11",
   "metadata": {},
   "outputs": [
    {
     "name": "stdout",
     "output_type": "stream",
     "text": [
      "        * \n",
      "      * * \n",
      "    * * * \n",
      "  * * * * \n",
      "* * * * * \n"
     ]
    }
   ],
   "source": [
    "N = 5\n",
    "nsp = N-1\n",
    "nst = 1\n",
    "row = 1\n",
    "while row <= N:\n",
    "    csp = 1\n",
    "    while csp <= nsp:\n",
    "        print(\" \",end=\" \")\n",
    "        csp += 1\n",
    "\n",
    "    cst = 1\n",
    "    while cst <= nst:\n",
    "        print(\"*\",end = \" \")\n",
    "        cst += 1\n",
    "\n",
    "    nsp -= 1\n",
    "    nst += 1\n",
    "    row += 1\n",
    "    print()"
   ]
  },
  {
   "cell_type": "code",
   "execution_count": 12,
   "id": "184f1fcf-8e7a-4e12-bb29-6442d43aee88",
   "metadata": {},
   "outputs": [
    {
     "name": "stdout",
     "output_type": "stream",
     "text": [
      "* * * * * \n",
      "    * * * * \n",
      "        * * * \n",
      "            * * \n",
      "                * \n"
     ]
    }
   ],
   "source": [
    "N = 5\n",
    "row = 1\n",
    "nsp = 0\n",
    "nst = N\n",
    "while row <= N:\n",
    "    csp = 1\n",
    "    while csp <= nsp:\n",
    "        print(\" \",end=\" \")\n",
    "        csp += 1\n",
    "\n",
    "    cst = 1\n",
    "    while cst <= nst:\n",
    "        print(\"*\",end =' ')\n",
    "        cst += 1\n",
    "\n",
    "    nsp += 2\n",
    "    nst -= 1\n",
    "\n",
    "    row += 1\n",
    "    print()"
   ]
  },
  {
   "cell_type": "code",
   "execution_count": 13,
   "id": "fac3dcdb-88a3-48f1-bdaf-474edd8f96c3",
   "metadata": {},
   "outputs": [
    {
     "name": "stdout",
     "output_type": "stream",
     "text": [
      "          * \n",
      "        * * * \n",
      "      * * * * * \n",
      "    * * * * * * * \n",
      "  * * * * * * * * * \n",
      "* * * * * * * * * * * \n"
     ]
    }
   ],
   "source": [
    "N = 6\n",
    "nsp = N-1\n",
    "nst = 1\n",
    "row = 1\n",
    "while row <= N:\n",
    "    csp = 1\n",
    "    while csp <= nsp:\n",
    "        print(\" \",end= \" \")\n",
    "        csp += 1\n",
    "\n",
    "    cst = 1\n",
    "    while cst <= nst:\n",
    "        print('*',end= \" \")\n",
    "        cst += 1\n",
    "    nst += 2\n",
    "    nsp -= 1\n",
    "    row += 1\n",
    "    print()\n",
    "        "
   ]
  },
  {
   "cell_type": "code",
   "execution_count": 15,
   "id": "27bea20d-12ff-47f7-8583-21b09cece067",
   "metadata": {},
   "outputs": [
    {
     "name": "stdout",
     "output_type": "stream",
     "text": [
      "* * * * * * * * * * * \n",
      "  * * * * * * * * * \n",
      "    * * * * * * * \n",
      "      * * * * * \n",
      "        * * * \n",
      "          * \n"
     ]
    }
   ],
   "source": [
    "N = 6\n",
    "nsp = 0\n",
    "nst = 2*N-1\n",
    "row = 1\n",
    "while row <= N:\n",
    "    csp = 1\n",
    "    while csp <= nsp:\n",
    "        print(\" \",end= \" \")\n",
    "        csp += 1\n",
    "\n",
    "    cst = 1\n",
    "    while cst <= nst:\n",
    "        print('*',end= \" \")\n",
    "        cst += 1\n",
    "    nst -= 2\n",
    "    nsp += 1\n",
    "    row += 1\n",
    "    print()\n",
    " "
   ]
  },
  {
   "cell_type": "code",
   "execution_count": 16,
   "id": "e76ce676-9e18-4ab9-97a9-31a03c84e50f",
   "metadata": {},
   "outputs": [
    {
     "name": "stdout",
     "output_type": "stream",
     "text": [
      "          * \n",
      "        *   * \n",
      "      *   *   * \n",
      "    *   *   *   * \n",
      "  *   *   *   *   * \n",
      "*   *   *   *   *   * \n"
     ]
    }
   ],
   "source": [
    "N = 6\n",
    "nsp = N-1\n",
    "nst = 1\n",
    "row = 1\n",
    "while row <= N:\n",
    "    csp = 1\n",
    "    while csp <= nsp:\n",
    "        print(\" \",end= \" \")\n",
    "        csp += 1\n",
    "\n",
    "    cst = 1\n",
    "    while cst <= nst:\n",
    "        if cst%2 == 0:\n",
    "            print(\" \",end= \" \")\n",
    "        else:\n",
    "            print('*',end= \" \")\n",
    "        cst += 1\n",
    "    nst += 2\n",
    "    nsp -= 1\n",
    "    row += 1\n",
    "    print()\n",
    "        "
   ]
  },
  {
   "cell_type": "code",
   "execution_count": 22,
   "id": "3420f819-048c-4523-91a5-12a4f7e02fa4",
   "metadata": {},
   "outputs": [
    {
     "name": "stdout",
     "output_type": "stream",
     "text": [
      "          * \n",
      "        * ! * \n",
      "      * ! * ! * \n",
      "    * ! * ! * ! * \n",
      "  * ! * ! * ! * ! * \n",
      "* ! * ! * ! * ! * ! * \n"
     ]
    }
   ],
   "source": [
    "N = 6\n",
    "nsp = N-1\n",
    "nst = 1\n",
    "row = 1\n",
    "while row <= N:\n",
    "    csp = 1\n",
    "    while csp <= nsp:\n",
    "        print(\" \",end= \" \")\n",
    "        csp += 1\n",
    "\n",
    "    cst = 1\n",
    "    while cst <= nst:\n",
    "        if cst%2 == 0:\n",
    "            print(\"!\",end= \" \")\n",
    "        else:\n",
    "            print('*',end= \" \")\n",
    "        cst += 1\n",
    "    nst += 2\n",
    "    nsp -= 1\n",
    "    row += 1\n",
    "    print()\n",
    "        "
   ]
  },
  {
   "cell_type": "code",
   "execution_count": null,
   "id": "e208414d-e53b-4919-a16f-5a86a84eecbf",
   "metadata": {},
   "outputs": [],
   "source": []
  },
  {
   "cell_type": "code",
   "execution_count": 23,
   "id": "38ec7b0a-8572-4137-abe4-94d4c9b90fd2",
   "metadata": {},
   "outputs": [
    {
     "name": "stdout",
     "output_type": "stream",
     "text": [
      "* * * * * * * \n",
      "*           * \n",
      "*           * \n",
      "*           * \n",
      "*           * \n",
      "*           * \n",
      "* * * * * * * \n"
     ]
    }
   ],
   "source": [
    "N = 7\n",
    "nst = N\n",
    "row = 1\n",
    "while row <= N:\n",
    "    cst = 1\n",
    "    while cst <= nst:\n",
    "        if cst == 1 or cst == nst or row == 1 or row == N:\n",
    "            print('*',end = ' ')\n",
    "        else:\n",
    "            print(\" \",end =\" \")\n",
    "        cst += 1\n",
    "\n",
    "    row += 1\n",
    "    print()"
   ]
  },
  {
   "cell_type": "code",
   "execution_count": 24,
   "id": "b483ca2d-bba2-4cce-bef9-37cc17a4a798",
   "metadata": {},
   "outputs": [
    {
     "name": "stdout",
     "output_type": "stream",
     "text": [
      "*           * \n",
      "  *       *   \n",
      "    *   *     \n",
      "      *       \n",
      "    *   *     \n",
      "  *       *   \n",
      "*           * \n"
     ]
    }
   ],
   "source": [
    "N = 7\n",
    "nst = N\n",
    "row = 1\n",
    "while row <= N:\n",
    "    cst = 1\n",
    "    while cst <= nst:\n",
    "        if cst == row or cst+row == N+1:\n",
    "            print('*',end = ' ')\n",
    "        else:\n",
    "            print(\" \",end =\" \")\n",
    "        cst += 1\n",
    "\n",
    "    row += 1\n",
    "    print()"
   ]
  },
  {
   "cell_type": "code",
   "execution_count": null,
   "id": "71856300-a057-454f-8c6b-f28707aa7b7f",
   "metadata": {},
   "outputs": [],
   "source": []
  },
  {
   "cell_type": "code",
   "execution_count": 25,
   "id": "5c36e71d-1bc6-4cb2-914a-344c56f5d8cb",
   "metadata": {},
   "outputs": [
    {
     "name": "stdout",
     "output_type": "stream",
     "text": [
      "* \n",
      "* * \n",
      "* * * \n",
      "* * * * \n",
      "* * * * * \n",
      "* * * * * * \n",
      "* * * * * \n",
      "* * * * \n",
      "* * * \n",
      "* * \n",
      "* \n"
     ]
    }
   ],
   "source": [
    "N = 6\n",
    "row = 1\n",
    "nst = 1\n",
    "while row <= 2*N-1:\n",
    "    cst = 1\n",
    "    while cst <= nst:\n",
    "        print(\"*\",end= \" \")\n",
    "        cst += 1\n",
    "\n",
    "    if row < N:\n",
    "        nst += 1\n",
    "    else:\n",
    "        nst -= 1\n",
    "\n",
    "    row += 1\n",
    "    print()"
   ]
  },
  {
   "cell_type": "code",
   "execution_count": 26,
   "id": "1bffc467-1464-44d0-8fb1-510d3b3b7313",
   "metadata": {},
   "outputs": [
    {
     "name": "stdout",
     "output_type": "stream",
     "text": [
      "        * \n",
      "      * * \n",
      "    * * * \n",
      "  * * * * \n",
      "* * * * * \n",
      "  * * * * \n",
      "    * * * \n",
      "      * * \n",
      "        * \n"
     ]
    }
   ],
   "source": [
    "N = 5\n",
    "nst = 1\n",
    "nsp = N-1\n",
    "row = 1\n",
    "while row  <= 2*N-1:\n",
    "\n",
    "    csp = 1\n",
    "    while csp <= nsp:\n",
    "        print(\" \",end = \" \")\n",
    "        csp += 1\n",
    "\n",
    "    cst = 1\n",
    "    while cst <= nst:\n",
    "        print(\"*\",end=\" \")\n",
    "        cst += 1\n",
    "\n",
    "    if row < N:\n",
    "        nsp -= 1\n",
    "        nst += 1\n",
    "    else:\n",
    "        nst -= 1\n",
    "        nsp += 1\n",
    "\n",
    "    row += 1\n",
    "    print()"
   ]
  },
  {
   "cell_type": "code",
   "execution_count": 27,
   "id": "4a50bf1f-ccd4-4faf-8c9c-f6c2aaf04915",
   "metadata": {},
   "outputs": [
    {
     "name": "stdout",
     "output_type": "stream",
     "text": [
      "* * * * * \n",
      "    * * * * \n",
      "        * * * \n",
      "            * * \n",
      "                * \n",
      "            * * \n",
      "        * * * \n",
      "    * * * * \n",
      "* * * * * \n"
     ]
    }
   ],
   "source": [
    "N = 5\n",
    "nst = N\n",
    "nsp = 0\n",
    "row = 1\n",
    "while row  <= 2*N-1:\n",
    "\n",
    "    csp = 1\n",
    "    while csp <= nsp:\n",
    "        print(\" \",end = \" \")\n",
    "        csp += 1\n",
    "\n",
    "    cst = 1\n",
    "    while cst <= nst:\n",
    "        print(\"*\",end=\" \")\n",
    "        cst += 1\n",
    "\n",
    "    if row < N:\n",
    "        nsp += 2\n",
    "        nst -= 1\n",
    "    else:\n",
    "        nst += 1\n",
    "        nsp -= 2\n",
    "\n",
    "    row += 1\n",
    "    print()"
   ]
  },
  {
   "cell_type": "code",
   "execution_count": 28,
   "id": "9d2cc9de-964a-469d-82db-1bb74d1c6a66",
   "metadata": {},
   "outputs": [
    {
     "name": "stdout",
     "output_type": "stream",
     "text": [
      "* * *   * * * \n",
      "* *       * * \n",
      "*           * \n",
      "              \n",
      "*           * \n",
      "* *       * * \n",
      "* * *   * * * \n"
     ]
    }
   ],
   "source": [
    "N = 7\n",
    "nst = N//2\n",
    "nsp = 1\n",
    "row = 1\n",
    "while row  <= N:\n",
    "    cst = 1\n",
    "    while cst <= nst:\n",
    "        print(\"*\",end=\" \")\n",
    "        cst += 1\n",
    "        \n",
    "    csp = 1\n",
    "    while csp <= nsp:\n",
    "        print(\" \",end = \" \")\n",
    "        csp += 1\n",
    "\n",
    "    cst = 1\n",
    "    while cst <= nst:\n",
    "        print(\"*\",end=\" \")\n",
    "        cst += 1\n",
    "\n",
    "    if row < (N+1)/2:\n",
    "        nsp += 2\n",
    "        nst -= 1\n",
    "    else:\n",
    "        nst += 1\n",
    "        nsp -= 2\n",
    "\n",
    "    row += 1\n",
    "    print()"
   ]
  },
  {
   "cell_type": "code",
   "execution_count": null,
   "id": "2ef3f8a1-0e17-4976-8f16-9471facaded7",
   "metadata": {},
   "outputs": [],
   "source": []
  },
  {
   "cell_type": "code",
   "execution_count": 30,
   "id": "c8ba2ab3-06ac-4238-9cdd-bdf61f918946",
   "metadata": {},
   "outputs": [
    {
     "name": "stdout",
     "output_type": "stream",
     "text": [
      "* * * * * * * \n",
      "* * *   * * * \n",
      "* *       * * \n",
      "*           * \n",
      "* *       * * \n",
      "* * *   * * * \n",
      "* * * * * * * \n"
     ]
    }
   ],
   "source": [
    "N = 7\n",
    "nst = (N+1)//2\n",
    "nsp = -1\n",
    "row = 1\n",
    "while row  <= N:\n",
    "    cst = 1\n",
    "    while cst <= nst:\n",
    "        print(\"*\",end=\" \")\n",
    "        cst += 1\n",
    "        \n",
    "    csp = 1\n",
    "    while csp <= nsp:\n",
    "        print(\" \",end = \" \")\n",
    "        csp += 1\n",
    "\n",
    "    cst = 1\n",
    "    if row == 1 or row == N:\n",
    "        cst = 2\n",
    "    while cst <= nst:\n",
    "        print(\"*\",end=\" \")\n",
    "        cst += 1\n",
    "\n",
    "    if row < (N+1)/2:\n",
    "        nsp += 2\n",
    "        nst -= 1\n",
    "    else:\n",
    "        nst += 1\n",
    "        nsp -= 2\n",
    "\n",
    "    row += 1\n",
    "    print()"
   ]
  },
  {
   "cell_type": "code",
   "execution_count": 2,
   "id": "fb4c29b5-34c9-4a0b-8545-1294bcadc823",
   "metadata": {},
   "outputs": [
    {
     "name": "stdout",
     "output_type": "stream",
     "text": [
      "      * \n",
      "    * * * \n",
      "  * * * * * \n",
      "* * * * * * * \n",
      "  * * * * * \n",
      "    * * * \n",
      "      * \n"
     ]
    }
   ],
   "source": [
    "N = 7\n",
    "nst = 1\n",
    "nsp = (N-1)//2\n",
    "row = 1\n",
    "while row <= N:\n",
    "\n",
    "    csp = 1 \n",
    "    while csp <= nsp:\n",
    "        print(\" \",end = \" \")\n",
    "        csp += 1\n",
    "\n",
    "    cst = 1\n",
    "    while cst <= nst:\n",
    "        print(\"*\",end = \" \")\n",
    "        cst += 1\n",
    "\n",
    "    if row < N/2:\n",
    "        nst += 2\n",
    "        nsp -= 1\n",
    "    else:\n",
    "        nst -= 2\n",
    "        nsp += 1\n",
    "\n",
    "    row += 1\n",
    "    print()"
   ]
  },
  {
   "cell_type": "code",
   "execution_count": 4,
   "id": "4b481f5a-af1b-4775-8342-5f5b543bcb0b",
   "metadata": {},
   "outputs": [
    {
     "name": "stdout",
     "output_type": "stream",
     "text": [
      "      * \n",
      "    *   * \n",
      "  *       * \n",
      "*           * \n",
      "  *       * \n",
      "    *   * \n",
      "      * \n"
     ]
    }
   ],
   "source": [
    "N = 7\n",
    "nst = 1\n",
    "nsp = (N-1)//2\n",
    "row = 1\n",
    "while row <= N:\n",
    "\n",
    "    csp = 1 \n",
    "    while csp <= nsp:\n",
    "        print(\" \",end = \" \")\n",
    "        csp += 1\n",
    "\n",
    "    cst = 1\n",
    "    while cst <= nst:\n",
    "        if cst == 1 or cst == nst:\n",
    "            print(\"*\",end = \" \")\n",
    "        else:\n",
    "            print(\" \",end= \" \")\n",
    "        cst += 1\n",
    "\n",
    "    if row < N/2:\n",
    "        nst += 2\n",
    "        nsp -= 1\n",
    "    else:\n",
    "        nst -= 2\n",
    "        nsp += 1\n",
    "\n",
    "    row += 1\n",
    "    print()"
   ]
  },
  {
   "cell_type": "code",
   "execution_count": null,
   "id": "4c1719f7-7d34-44ac-89ef-8120a87f1d7f",
   "metadata": {},
   "outputs": [],
   "source": []
  },
  {
   "cell_type": "code",
   "execution_count": 7,
   "id": "38346d62-add7-4637-81c5-42e06f97a440",
   "metadata": {},
   "outputs": [
    {
     "name": "stdout",
     "output_type": "stream",
     "text": [
      "          1 \n",
      "        1 1 1 \n",
      "      1 1 1 1 1 \n",
      "    1 1 1 1 1 1 1 \n",
      "  1 1 1 1 1 1 1 1 1 \n",
      "1 1 1 1 1 1 1 1 1 1 1 \n"
     ]
    }
   ],
   "source": [
    "N = 6\n",
    "nsp = N-1\n",
    "nst = 1\n",
    "row = 1\n",
    "val = 1\n",
    "while row <= N:\n",
    "    csp = 1\n",
    "    while csp <= nsp:\n",
    "        print(\" \",end= \" \")\n",
    "        csp += 1\n",
    "\n",
    "    cst = 1\n",
    "    cval = val\n",
    "    while cst <= nst:\n",
    "        print(cval,end= \" \")\n",
    "        cst += 1\n",
    "    nst += 2\n",
    "    nsp -= 1\n",
    "    row += 1\n",
    "    print()\n",
    "        "
   ]
  },
  {
   "cell_type": "code",
   "execution_count": 8,
   "id": "b111b552-3fff-49de-aee3-377b7e674c02",
   "metadata": {},
   "outputs": [
    {
     "name": "stdout",
     "output_type": "stream",
     "text": [
      "          1 \n",
      "        2 2 2 \n",
      "      3 3 3 3 3 \n",
      "    4 4 4 4 4 4 4 \n",
      "  5 5 5 5 5 5 5 5 5 \n",
      "6 6 6 6 6 6 6 6 6 6 6 \n"
     ]
    }
   ],
   "source": [
    "N = 6\n",
    "nsp = N-1\n",
    "nst = 1\n",
    "row = 1\n",
    "val = 1\n",
    "while row <= N:\n",
    "    csp = 1\n",
    "    while csp <= nsp:\n",
    "        print(\" \",end= \" \")\n",
    "        csp += 1\n",
    "\n",
    "    cst = 1\n",
    "    cval = val\n",
    "    while cst <= nst:\n",
    "        print(cval,end= \" \")\n",
    "        cst += 1\n",
    "    nst += 2\n",
    "    nsp -= 1\n",
    "    row += 1\n",
    "    val += 1\n",
    "    print()\n",
    "        "
   ]
  },
  {
   "cell_type": "code",
   "execution_count": null,
   "id": "3cdc1b08-449f-490a-ad4a-d1d0f9c527d9",
   "metadata": {},
   "outputs": [],
   "source": []
  },
  {
   "cell_type": "code",
   "execution_count": 9,
   "id": "7008e474-f86b-46c9-bb87-a3739ffcb74c",
   "metadata": {},
   "outputs": [
    {
     "name": "stdout",
     "output_type": "stream",
     "text": [
      "          1 \n",
      "        1 2 3 \n",
      "      1 2 3 4 5 \n",
      "    1 2 3 4 5 6 7 \n",
      "  1 2 3 4 5 6 7 8 9 \n",
      "1 2 3 4 5 6 7 8 9 10 11 \n"
     ]
    }
   ],
   "source": [
    "N = 6\n",
    "nsp = N-1\n",
    "nst = 1\n",
    "row = 1\n",
    "val = 1\n",
    "while row <= N:\n",
    "    csp = 1\n",
    "    while csp <= nsp:\n",
    "        print(\" \",end= \" \")\n",
    "        csp += 1\n",
    "\n",
    "    cst = 1\n",
    "    cval = val\n",
    "    while cst <= nst:\n",
    "        print(cval,end= \" \")\n",
    "        cst += 1\n",
    "        cval += 1\n",
    "    nst += 2\n",
    "    nsp -= 1\n",
    "    row += 1\n",
    "    print()\n",
    "        "
   ]
  },
  {
   "cell_type": "code",
   "execution_count": null,
   "id": "120010f6-7522-473e-b2a0-c4bb13f5dd86",
   "metadata": {},
   "outputs": [],
   "source": []
  },
  {
   "cell_type": "code",
   "execution_count": 10,
   "id": "63b85595-40f6-4231-8b5a-df688711128f",
   "metadata": {},
   "outputs": [
    {
     "name": "stdout",
     "output_type": "stream",
     "text": [
      "          1 \n",
      "        1 2 1 \n",
      "      1 2 3 2 1 \n",
      "    1 2 3 4 3 2 1 \n",
      "  1 2 3 4 5 4 3 2 1 \n",
      "1 2 3 4 5 6 5 4 3 2 1 \n"
     ]
    }
   ],
   "source": [
    "N = 6\n",
    "nsp = N-1\n",
    "nst = 1\n",
    "row = 1\n",
    "val = 1\n",
    "while row <= N:\n",
    "    csp = 1\n",
    "    while csp <= nsp:\n",
    "        print(\" \",end= \" \")\n",
    "        csp += 1\n",
    "\n",
    "    cst = 1\n",
    "    cval = val\n",
    "    while cst <= nst:\n",
    "        print(cval,end= \" \")\n",
    "        if cst < nst/2:\n",
    "            cval += 1\n",
    "        else:\n",
    "            cval -= 1\n",
    "        cst += 1\n",
    "\n",
    "    nst += 2\n",
    "    nsp -= 1\n",
    "    row += 1\n",
    "    print()\n",
    "        "
   ]
  },
  {
   "cell_type": "code",
   "execution_count": 11,
   "id": "eab609f5-9589-4137-bbc5-d1530f8d7dd1",
   "metadata": {},
   "outputs": [
    {
     "name": "stdout",
     "output_type": "stream",
     "text": [
      "          1 \n",
      "        2 3 2 \n",
      "      3 4 5 4 3 \n",
      "    4 5 6 7 6 5 4 \n",
      "  5 6 7 8 9 8 7 6 5 \n",
      "6 7 8 9 10 11 10 9 8 7 6 \n"
     ]
    }
   ],
   "source": [
    "N = 6\n",
    "nsp = N-1\n",
    "nst = 1\n",
    "row = 1\n",
    "val = 1\n",
    "while row <= N:\n",
    "    csp = 1\n",
    "    while csp <= nsp:\n",
    "        print(\" \",end= \" \")\n",
    "        csp += 1\n",
    "\n",
    "    cst = 1\n",
    "    cval = val\n",
    "    while cst <= nst:\n",
    "        print(cval,end= \" \")\n",
    "        if cst < nst/2:\n",
    "            cval += 1\n",
    "        else:\n",
    "            cval -= 1\n",
    "        cst += 1\n",
    "\n",
    "    nst += 2\n",
    "    nsp -= 1\n",
    "    val += 1\n",
    "    row += 1\n",
    "    print()\n",
    "        "
   ]
  },
  {
   "cell_type": "code",
   "execution_count": null,
   "id": "fdd775af-a907-43b3-8870-ac06899771a2",
   "metadata": {},
   "outputs": [],
   "source": []
  },
  {
   "cell_type": "code",
   "execution_count": 12,
   "id": "9344719a-3724-47c5-aa2a-a2226d362997",
   "metadata": {},
   "outputs": [
    {
     "name": "stdout",
     "output_type": "stream",
     "text": [
      "          1 \n",
      "        2 0 2 \n",
      "      3 0 0 0 3 \n",
      "    4 0 0 0 0 0 4 \n",
      "  5 0 0 0 0 0 0 0 5 \n",
      "6 0 0 0 0 0 0 0 0 0 6 \n"
     ]
    }
   ],
   "source": [
    "N = 6\n",
    "nsp = N-1\n",
    "nst = 1\n",
    "row = 1\n",
    "val = 1\n",
    "while row <= N:\n",
    "    csp = 1\n",
    "    while csp <= nsp:\n",
    "        print(\" \",end= \" \")\n",
    "        csp += 1\n",
    "\n",
    "    cst = 1\n",
    "    cval = val\n",
    "    while cst <= nst:\n",
    "        if cst == 1 or cst == nst:\n",
    "            print(cval,end= \" \")\n",
    "        else:\n",
    "            print('0',end = ' ')\n",
    "        cst += 1\n",
    "    nst += 2\n",
    "    nsp -= 1\n",
    "    row += 1\n",
    "    val += 1\n",
    "    print()\n",
    "        "
   ]
  },
  {
   "cell_type": "code",
   "execution_count": 14,
   "id": "b9952c4e-74f0-4333-9064-527333279c43",
   "metadata": {},
   "outputs": [
    {
     "name": "stdout",
     "output_type": "stream",
     "text": [
      "5 4 3 2 * \n",
      "5 4 3 * 1 \n",
      "5 4 * 2 1 \n",
      "5 * 3 2 1 \n",
      "* 4 3 2 1 \n"
     ]
    }
   ],
   "source": [
    "N = 5\n",
    "nst = N\n",
    "val = N\n",
    "row = 1\n",
    "while row <= N:\n",
    "    cst = 1\n",
    "    cval = val\n",
    "    while cst <= nst:\n",
    "        if cst + row == N+1:\n",
    "            print(\"*\",end= \" \")\n",
    "        else:\n",
    "            print(cval,end=\" \")\n",
    "        cst += 1\n",
    "        cval -= 1\n",
    "\n",
    "    row += 1\n",
    "    print()"
   ]
  },
  {
   "cell_type": "code",
   "execution_count": 19,
   "id": "d96c94dd-f05e-4edf-9834-c54ee399619a",
   "metadata": {},
   "outputs": [
    {
     "name": "stdout",
     "output_type": "stream",
     "text": [
      "1 \n",
      "2 * 2 \n",
      "3 * 3 * 3 \n",
      "4 * 4 * 4 * 4 \n",
      "5 * 5 * 5 * 5 * 5 \n",
      "4 * 4 * 4 * 4 \n",
      "3 * 3 * 3 \n",
      "2 * 2 \n",
      "1 \n"
     ]
    }
   ],
   "source": [
    "N = 5\n",
    "nst = 1\n",
    "row = 1\n",
    "val = 1\n",
    "while row <= 2*N-1:\n",
    "    cst = 1\n",
    "    cval = val\n",
    "    while cst <= nst:\n",
    "        if cst%2 == 0:\n",
    "            print(\"*\",end= \" \")\n",
    "        else:\n",
    "            print(cval,end= \" \")\n",
    "        cst += 1\n",
    "\n",
    "    if row < N:\n",
    "        nst += 2\n",
    "        val += 1\n",
    "    else:\n",
    "        nst -= 2\n",
    "        val -= 1\n",
    "    row += 1\n",
    "    print()"
   ]
  },
  {
   "cell_type": "code",
   "execution_count": null,
   "id": "aed033ce-c759-4d1d-8b50-ebeb698b05fc",
   "metadata": {},
   "outputs": [],
   "source": []
  },
  {
   "cell_type": "code",
   "execution_count": 24,
   "id": "308b4a02-80b2-47cc-b2be-85f8bcd50a98",
   "metadata": {},
   "outputs": [
    {
     "name": "stdout",
     "output_type": "stream",
     "text": [
      "            1 \n",
      "        2 1   1 2 \n",
      "    3 2 1       1 2 3 \n",
      "4 3 2 1           1 2 3 4 \n",
      "    3 2 1       1 2 3 \n",
      "        2 1   1 2 \n",
      "            1 \n"
     ]
    }
   ],
   "source": [
    "N = 7\n",
    "row = 1\n",
    "nsp1 = N-1\n",
    "nsp2 = -1\n",
    "nst = 1\n",
    "val = 1\n",
    "while row <= N:\n",
    "\n",
    "    csp1 = 1\n",
    "    while csp1 <= nsp1:\n",
    "        print(\" \",end = \" \")\n",
    "        csp1 += 1\n",
    "\n",
    "    cst = 1\n",
    "    cval = val\n",
    "    while cst <= nst:\n",
    "        print(cval,end= ' ')\n",
    "        cst += 1\n",
    "        cval -= 1\n",
    "\n",
    "    csp2 = 1\n",
    "    while csp2 <= nsp2:\n",
    "        print(\" \",end = \" \")\n",
    "        csp2 += 1\n",
    "\n",
    "    cst = 1\n",
    "    cval += 1\n",
    "    if row == 1 or row == N:\n",
    "        cst = 2\n",
    "    while cst <= nst:\n",
    "        print(cval,end= ' ')\n",
    "        cst += 1\n",
    "        cval += 1\n",
    "\n",
    "    if row < N/2:\n",
    "        nsp1 -= 2\n",
    "        nsp2 += 2\n",
    "        nst += 1\n",
    "        val += 1\n",
    "    else:\n",
    "        nsp1 += 2\n",
    "        nsp2 -= 2\n",
    "        nst -= 1\n",
    "        val -= 1\n",
    "\n",
    "    row += 1\n",
    "    print()"
   ]
  },
  {
   "cell_type": "code",
   "execution_count": 25,
   "id": "f89221a8-f3d2-4a82-a6bc-e082a376aef0",
   "metadata": {},
   "outputs": [],
   "source": [
    "N = 4325\n",
    "s = 0\n",
    "while N != 0:\n",
    "    rem = N%10\n",
    "    s += rem\n",
    "\n",
    "    N = N//10"
   ]
  },
  {
   "cell_type": "code",
   "execution_count": 26,
   "id": "3c8bb738-5bd1-4218-ba94-f9556f97d7ce",
   "metadata": {},
   "outputs": [
    {
     "name": "stdout",
     "output_type": "stream",
     "text": [
      "14\n"
     ]
    }
   ],
   "source": [
    "print(s)"
   ]
  },
  {
   "cell_type": "code",
   "execution_count": null,
   "id": "60128479-3e3b-42c7-b463-36e485107142",
   "metadata": {},
   "outputs": [],
   "source": []
  },
  {
   "cell_type": "code",
   "execution_count": null,
   "id": "3bb3e536-27dd-4dc8-8193-5be3e148b159",
   "metadata": {},
   "outputs": [],
   "source": []
  },
  {
   "cell_type": "code",
   "execution_count": null,
   "id": "937537b4-da3f-4e53-a609-c703a969e0d3",
   "metadata": {},
   "outputs": [],
   "source": []
  },
  {
   "cell_type": "code",
   "execution_count": null,
   "id": "17cd5a7c-edb5-4c8c-8f14-c24d22bee55e",
   "metadata": {},
   "outputs": [],
   "source": []
  }
 ],
 "metadata": {
  "kernelspec": {
   "display_name": "Python 3 (ipykernel)",
   "language": "python",
   "name": "python3"
  },
  "language_info": {
   "codemirror_mode": {
    "name": "ipython",
    "version": 3
   },
   "file_extension": ".py",
   "mimetype": "text/x-python",
   "name": "python",
   "nbconvert_exporter": "python",
   "pygments_lexer": "ipython3",
   "version": "3.12.9"
  }
 },
 "nbformat": 4,
 "nbformat_minor": 5
}
