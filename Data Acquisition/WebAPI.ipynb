{
 "cells": [
  {
   "cell_type": "markdown",
   "id": "4c116f27-8a33-408e-8bbe-072b46e8f63c",
   "metadata": {},
   "source": [
    "# Data Acquisition - Web API's\n",
    "- Application Programming Interface - Set of Routines running over Web Server\n",
    "- Connects Application & Database\n",
    "- Specify Data with URL\n",
    "- Retrieve Data & Parse It\n",
    "- API may return data in JSON, XML data format's\n",
    "\n",
    "# JSON\n",
    "- JavaScript Object Notation\n",
    "- Dictionary Like Data-Structure: key value pairs\n",
    "- keys are string, values can be anything\n",
    "- Easy to reaad and write"
   ]
  },
  {
   "cell_type": "markdown",
   "id": "8eaaa01b-00df-4f5f-a25a-72e354691335",
   "metadata": {},
   "source": [
    "# Type of Requests\n",
    "- GET\n",
    "- POST\n",
    "- DELETE\n",
    "- PUT\n",
    "- PATCH"
   ]
  },
  {
   "cell_type": "markdown",
   "id": "eb901fdc-5377-4289-9265-2be72ba5971e",
   "metadata": {},
   "source": [
    "# Requests Library\n",
    "- Most popular Python Library\n",
    "\n",
    "# Installation\n",
    "```\n",
    "pip install requests\n",
    "```"
   ]
  },
  {
   "cell_type": "code",
   "execution_count": 1,
   "id": "e5c33f40-6ec9-4700-9c5e-28baf93536be",
   "metadata": {},
   "outputs": [],
   "source": [
    "import requests"
   ]
  },
  {
   "cell_type": "code",
   "execution_count": 14,
   "id": "eea5cac5-402b-48a2-9009-41ed8b66d796",
   "metadata": {},
   "outputs": [],
   "source": [
    "url = 'https://catfact.ninja/'\n",
    "res = requests.get('https://catfact.ninja/fact',params={'max_length':50})"
   ]
  },
  {
   "cell_type": "code",
   "execution_count": 15,
   "id": "58b5444a-f841-4ac6-9321-bf5bb5fc0ae2",
   "metadata": {},
   "outputs": [
    {
     "data": {
      "text/plain": [
       "<Response [200]>"
      ]
     },
     "execution_count": 15,
     "metadata": {},
     "output_type": "execute_result"
    }
   ],
   "source": [
    "res"
   ]
  },
  {
   "cell_type": "code",
   "execution_count": 18,
   "id": "f69c5dcf-3efb-4164-9c36-9105118414e7",
   "metadata": {},
   "outputs": [
    {
     "name": "stdout",
     "output_type": "stream",
     "text": [
      "{\"fact\":\"70% of your cat's life is spent asleep.\",\"length\":39} <class 'str'>\n"
     ]
    }
   ],
   "source": [
    "print(res.text,type(res.text))"
   ]
  },
  {
   "cell_type": "code",
   "execution_count": 19,
   "id": "92ec596c-b14c-4831-95bb-2c5b1d1e9625",
   "metadata": {},
   "outputs": [],
   "source": [
    "import json"
   ]
  },
  {
   "cell_type": "code",
   "execution_count": 20,
   "id": "7a5b658c-3360-4df0-a67a-8d84da3e61f4",
   "metadata": {},
   "outputs": [
    {
     "name": "stdout",
     "output_type": "stream",
     "text": [
      "{'fact': \"70% of your cat's life is spent asleep.\", 'length': 39} <class 'dict'>\n"
     ]
    }
   ],
   "source": [
    "print(json.loads(res.text),type(json.loads(res.text)))"
   ]
  },
  {
   "cell_type": "code",
   "execution_count": 23,
   "id": "d0699150-be3e-4c89-adae-758b22296f56",
   "metadata": {},
   "outputs": [],
   "source": [
    "fact = res.json()"
   ]
  },
  {
   "cell_type": "code",
   "execution_count": 24,
   "id": "a29bd00d-da35-47b9-9bc7-07e2fd4c41b7",
   "metadata": {},
   "outputs": [
    {
     "data": {
      "text/plain": [
       "(\"70% of your cat's life is spent asleep.\", 39)"
      ]
     },
     "execution_count": 24,
     "metadata": {},
     "output_type": "execute_result"
    }
   ],
   "source": [
    "fact['fact'],len(fact['fact'])"
   ]
  },
  {
   "cell_type": "code",
   "execution_count": 25,
   "id": "770d3274-b15e-4da0-9745-f244c0ca4fd7",
   "metadata": {},
   "outputs": [
    {
     "data": {
      "text/plain": [
       "39"
      ]
     },
     "execution_count": 25,
     "metadata": {},
     "output_type": "execute_result"
    }
   ],
   "source": [
    "fact['length']"
   ]
  },
  {
   "cell_type": "code",
   "execution_count": null,
   "id": "7ce09d1a-b361-446a-9035-e9a4bd195b3d",
   "metadata": {},
   "outputs": [],
   "source": []
  },
  {
   "cell_type": "code",
   "execution_count": 34,
   "id": "45e4eee8-aac7-4631-af5e-5dc8dcdc2cd4",
   "metadata": {},
   "outputs": [],
   "source": [
    "url = 'https://catfact.ninja/'\n",
    "res = requests.get(url+'facts',params={'max_length':50,'limit':20})"
   ]
  },
  {
   "cell_type": "code",
   "execution_count": 35,
   "id": "befd538d-f850-4fb7-b32a-1580e26dcb2c",
   "metadata": {},
   "outputs": [
    {
     "data": {
      "text/plain": [
       "<Response [200]>"
      ]
     },
     "execution_count": 35,
     "metadata": {},
     "output_type": "execute_result"
    }
   ],
   "source": [
    "res"
   ]
  },
  {
   "cell_type": "code",
   "execution_count": 36,
   "id": "e3594538-24d4-422e-89b8-4f8d65a18446",
   "metadata": {},
   "outputs": [],
   "source": [
    "facts = res.json()"
   ]
  },
  {
   "cell_type": "code",
   "execution_count": 37,
   "id": "f37f57da-5882-4031-9ede-ab6d4a510213",
   "metadata": {},
   "outputs": [
    {
     "data": {
      "text/plain": [
       "{'current_page': 1,\n",
       " 'data': [{'fact': 'Cats have 3 eyelids.', 'length': 20},\n",
       "  {'fact': 'Cats walk on their toes.', 'length': 24},\n",
       "  {'fact': 'Most cats adore sardines.', 'length': 25},\n",
       "  {'fact': 'Cats dislike citrus scent.', 'length': 26},\n",
       "  {'fact': 'Cats have supersonic hearing', 'length': 28},\n",
       "  {'fact': 'Female cats are polyestrous', 'length': 28},\n",
       "  {'fact': 'A form of AIDS exists in cats.', 'length': 30},\n",
       "  {'fact': 'Female felines are \\\\superfecund', 'length': 31},\n",
       "  {'fact': 'Milk can give some cats diarrhea.', 'length': 33},\n",
       "  {'fact': 'A group of cats is called a clowder.', 'length': 36},\n",
       "  {'fact': 'A group of cats is called a “clowder.”', 'length': 38},\n",
       "  {'fact': \"Cat's urine glows under a black light.\", 'length': 38},\n",
       "  {'fact': 'Cats can be right-pawed or left-pawed.', 'length': 38},\n",
       "  {'fact': \"A tiger's stripes are like fingerprints\", 'length': 39},\n",
       "  {'fact': \"70% of your cat's life is spent asleep.\", 'length': 39},\n",
       "  {'fact': 'Cats have the largest eyes of any mammal.', 'length': 41},\n",
       "  {'fact': 'A cat cannot see directly under its nose.', 'length': 41},\n",
       "  {'fact': 'A female cat is called a queen or a molly.', 'length': 42},\n",
       "  {'fact': 'There are approximately 100 breeds of cat.', 'length': 42},\n",
       "  {'fact': 'Approximately 24 cat skins can make a coat.', 'length': 43}],\n",
       " 'first_page_url': 'https://catfact.ninja/facts?page=1',\n",
       " 'from': 1,\n",
       " 'last_page': 2,\n",
       " 'last_page_url': 'https://catfact.ninja/facts?page=2',\n",
       " 'links': [{'url': None, 'label': 'Previous', 'active': False},\n",
       "  {'url': 'https://catfact.ninja/facts?page=1', 'label': '1', 'active': True},\n",
       "  {'url': 'https://catfact.ninja/facts?page=2', 'label': '2', 'active': False},\n",
       "  {'url': 'https://catfact.ninja/facts?page=2',\n",
       "   'label': 'Next',\n",
       "   'active': False}],\n",
       " 'next_page_url': 'https://catfact.ninja/facts?page=2',\n",
       " 'path': 'https://catfact.ninja/facts',\n",
       " 'per_page': 20,\n",
       " 'prev_page_url': None,\n",
       " 'to': 20,\n",
       " 'total': 33}"
      ]
     },
     "execution_count": 37,
     "metadata": {},
     "output_type": "execute_result"
    }
   ],
   "source": [
    "facts"
   ]
  },
  {
   "cell_type": "code",
   "execution_count": 38,
   "id": "e522d711-2375-4da2-bbba-0424cd744336",
   "metadata": {},
   "outputs": [
    {
     "data": {
      "text/plain": [
       "[{'fact': 'Cats have 3 eyelids.', 'length': 20},\n",
       " {'fact': 'Cats walk on their toes.', 'length': 24},\n",
       " {'fact': 'Most cats adore sardines.', 'length': 25},\n",
       " {'fact': 'Cats dislike citrus scent.', 'length': 26},\n",
       " {'fact': 'Cats have supersonic hearing', 'length': 28},\n",
       " {'fact': 'Female cats are polyestrous', 'length': 28},\n",
       " {'fact': 'A form of AIDS exists in cats.', 'length': 30},\n",
       " {'fact': 'Female felines are \\\\superfecund', 'length': 31},\n",
       " {'fact': 'Milk can give some cats diarrhea.', 'length': 33},\n",
       " {'fact': 'A group of cats is called a clowder.', 'length': 36},\n",
       " {'fact': 'A group of cats is called a “clowder.”', 'length': 38},\n",
       " {'fact': \"Cat's urine glows under a black light.\", 'length': 38},\n",
       " {'fact': 'Cats can be right-pawed or left-pawed.', 'length': 38},\n",
       " {'fact': \"A tiger's stripes are like fingerprints\", 'length': 39},\n",
       " {'fact': \"70% of your cat's life is spent asleep.\", 'length': 39},\n",
       " {'fact': 'Cats have the largest eyes of any mammal.', 'length': 41},\n",
       " {'fact': 'A cat cannot see directly under its nose.', 'length': 41},\n",
       " {'fact': 'A female cat is called a queen or a molly.', 'length': 42},\n",
       " {'fact': 'There are approximately 100 breeds of cat.', 'length': 42},\n",
       " {'fact': 'Approximately 24 cat skins can make a coat.', 'length': 43}]"
      ]
     },
     "execution_count": 38,
     "metadata": {},
     "output_type": "execute_result"
    }
   ],
   "source": [
    "facts['data']"
   ]
  },
  {
   "cell_type": "code",
   "execution_count": null,
   "id": "ed494e2e-975e-4652-9ce6-0451ac29ff57",
   "metadata": {},
   "outputs": [],
   "source": []
  },
  {
   "cell_type": "code",
   "execution_count": 50,
   "id": "4dcdea61-8c2b-47f2-965d-0ee5a4e9cbd4",
   "metadata": {},
   "outputs": [],
   "source": [
    "url = 'https://catfact.ninja/'\n",
    "facts = []\n",
    "for page in range(1,4):\n",
    "    res = requests.get(url+'facts',params={'max_length':50,'page':page})\n",
    "    f = res.json()\n",
    "    for d in f['data']:\n",
    "        facts.append(d['fact'])"
   ]
  },
  {
   "cell_type": "code",
   "execution_count": 51,
   "id": "8f8c9e62-baa1-4388-82b5-af09007e78e9",
   "metadata": {},
   "outputs": [
    {
     "data": {
      "text/plain": [
       "['Cats have 3 eyelids.',\n",
       " 'Cats walk on their toes.',\n",
       " 'Most cats adore sardines.',\n",
       " 'Cats dislike citrus scent.',\n",
       " 'Cats have supersonic hearing',\n",
       " 'Female cats are polyestrous',\n",
       " 'A form of AIDS exists in cats.',\n",
       " 'Female felines are \\\\superfecund',\n",
       " 'Milk can give some cats diarrhea.',\n",
       " 'A group of cats is called a clowder.',\n",
       " 'A group of cats is called a “clowder.”',\n",
       " \"Cat's urine glows under a black light.\",\n",
       " 'Cats can be right-pawed or left-pawed.',\n",
       " \"A tiger's stripes are like fingerprints\",\n",
       " \"70% of your cat's life is spent asleep.\",\n",
       " 'Cats have the largest eyes of any mammal.',\n",
       " 'A cat cannot see directly under its nose.',\n",
       " 'A female cat is called a queen or a molly.',\n",
       " 'There are approximately 100 breeds of cat.',\n",
       " 'Approximately 24 cat skins can make a coat.',\n",
       " 'A domestic cat can run at speeds of 30 mph.',\n",
       " 'Cats take between 20-40 breaths per minute.',\n",
       " \"The cat's tail is used to maintain balance.\",\n",
       " 'A happy cat holds her tail high and steady.',\n",
       " 'A cats field of vision is about 185 degrees.',\n",
       " 'A cat can jump 5 times as high as it is tall.',\n",
       " \"A cat's field of vision is about 200 degrees.\",\n",
       " \"Jaguars are the only big cats that don't roar.\",\n",
       " 'Cats can jump up to 7 times their tail length.',\n",
       " 'Blue-eyed, pure white cats are frequently deaf.']"
      ]
     },
     "execution_count": 51,
     "metadata": {},
     "output_type": "execute_result"
    }
   ],
   "source": [
    "facts"
   ]
  },
  {
   "cell_type": "code",
   "execution_count": null,
   "id": "c8c0e2c1-7d2e-4824-aa3f-3470d6f8c2f7",
   "metadata": {},
   "outputs": [],
   "source": []
  },
  {
   "cell_type": "code",
   "execution_count": 54,
   "id": "fcd0f269-d65e-49c4-b18b-d21b6d46bcb2",
   "metadata": {},
   "outputs": [],
   "source": [
    "url = 'https://catfact.ninja/'\n",
    "breeds = []\n",
    "for page in range(1,4):\n",
    "    res = requests.get(url+'breeds',params={'page':page})\n",
    "    f = res.json()\n",
    "    for d in f['data']:\n",
    "        breeds.append(d['breed'])"
   ]
  },
  {
   "cell_type": "code",
   "execution_count": 56,
   "id": "1df47bbc-3a38-467f-abd0-8b7923e4f33c",
   "metadata": {},
   "outputs": [
    {
     "data": {
      "text/plain": [
       "['Abyssinian',\n",
       " 'Aegean',\n",
       " 'American Curl',\n",
       " 'American Bobtail',\n",
       " 'American Shorthair',\n",
       " 'American Wirehair',\n",
       " 'Arabian Mau',\n",
       " 'Australian Mist',\n",
       " 'Asian',\n",
       " 'Asian Semi-longhair',\n",
       " 'Balinese',\n",
       " 'Bambino',\n",
       " 'Bengal',\n",
       " 'Birman',\n",
       " 'Bombay',\n",
       " 'Brazilian Shorthair',\n",
       " 'British Semi-longhair',\n",
       " 'British Shorthair',\n",
       " 'British Longhair',\n",
       " 'Burmese',\n",
       " 'Burmilla',\n",
       " 'California Spangled',\n",
       " 'Chantilly-Tiffany',\n",
       " 'Chartreux',\n",
       " 'Chausie',\n",
       " 'Cheetoh',\n",
       " 'Colorpoint Shorthair',\n",
       " 'Cornish Rex',\n",
       " 'Cymric or Manx Longhair',\n",
       " 'Cyprus',\n",
       " 'Devon Rex',\n",
       " 'Donskoy, or Don Sphynx',\n",
       " 'Dragon Li',\n",
       " 'Dwarf cat, or Dwelf',\n",
       " 'Egyptian Mau',\n",
       " 'European Shorthair',\n",
       " 'Exotic Shorthair',\n",
       " 'Foldex[4]',\n",
       " 'German Rex',\n",
       " 'Havana Brown',\n",
       " 'Highlander',\n",
       " 'Himalayan, or Colorpoint Persian',\n",
       " 'Japanese Bobtail',\n",
       " 'Javanese',\n",
       " 'Karelian Bobtail',\n",
       " 'Khao Manee',\n",
       " 'Korat',\n",
       " 'Korean Bobtail',\n",
       " 'Korn Ja',\n",
       " 'Kurilian Bobtail, or Kuril Islands Bobtail',\n",
       " 'LaPerm',\n",
       " 'Lykoi',\n",
       " 'Maine Coon',\n",
       " 'Manx',\n",
       " 'Mekong Bobtail',\n",
       " 'Minskin',\n",
       " 'Munchkin',\n",
       " 'Nebelung',\n",
       " 'Napoleon',\n",
       " 'Norwegian Forest cat',\n",
       " 'Ocicat',\n",
       " 'Ojos Azules',\n",
       " 'Oregon Rex',\n",
       " 'Oriental Bicolor',\n",
       " 'Oriental Shorthair',\n",
       " 'Oriental Longhair',\n",
       " 'PerFoldæ(Experimental Breed - WCF)',\n",
       " 'Persian (Modern Persian Cat)',\n",
       " 'Persian (Traditional Persian Cat)',\n",
       " 'Peterbald',\n",
       " 'Pixie-bob',\n",
       " 'Raas',\n",
       " 'Ragamuffin',\n",
       " 'Ragdoll',\n",
       " 'Russian Blue']"
      ]
     },
     "execution_count": 56,
     "metadata": {},
     "output_type": "execute_result"
    }
   ],
   "source": [
    "breeds"
   ]
  },
  {
   "cell_type": "code",
   "execution_count": null,
   "id": "72315188-dbda-4bd0-90f8-5c62edf5d512",
   "metadata": {},
   "outputs": [],
   "source": []
  },
  {
   "cell_type": "code",
   "execution_count": null,
   "id": "fe5a0d6a-c2af-4d11-8e74-6ac96b179cf6",
   "metadata": {},
   "outputs": [],
   "source": []
  },
  {
   "cell_type": "code",
   "execution_count": 40,
   "id": "a59dd028-86e4-4534-abc4-6e0e537a542d",
   "metadata": {},
   "outputs": [
    {
     "name": "stdout",
     "output_type": "stream",
     "text": [
      "{'rows': 25, 'numFound': 262691, 'results': [{'id': 'tt21377368', 'url': 'https://www.imdb.com/title/tt21377368/', 'primaryTitle': 'Vera', 'originalTitle': 'Vera', 'type': 'movie', 'description': 'Vera lives in the shadow of her famous father. Tired of her superficial life and relationships, she drifts through Roman high society. When she injures a child in a traffic accident in the suburbs, she forms an intense relationship with an eight- year-old boy and his father. But soon she must realize that also in this world she is only an instrument for others.', 'primaryImage': 'https://m.media-amazon.com/images/M/MV5BMWJlYmIyODEtMjQ3Ny00MGEzLWJhYTUtZTc5ODdkOGY5NjJlXkEyXkFqcGc@.jpg', 'thumbnails': [{'url': 'https://m.media-amazon.com/images/M/MV5BMWJlYmIyODEtMjQ3Ny00MGEzLWJhYTUtZTc5ODdkOGY5NjJlXkEyXkFqcGc@._V1_QL75_UX100_CR0,0,100,148_.jpg', 'width': 100, 'height': 148}, {'url': 'https://m.media-amazon.com/images/M/MV5BMWJlYmIyODEtMjQ3Ny00MGEzLWJhYTUtZTc5ODdkOGY5NjJlXkEyXkFqcGc@._V1_QL75_UX280_CR0,0,280,414_.jpg', 'width': 280, 'height': 414}, {'url': 'https://m.media-amazon.com/images/M/MV5BMWJlYmIyODEtMjQ3Ny00MGEzLWJhYTUtZTc5ODdkOGY5NjJlXkEyXkFqcGc@._V1_QL75_UX380_CR0,0,380,562_.jpg', 'width': 380, 'height': 562}], 'trailer': 'https://www.youtube.com/watch?v=23UYucCdt3I', 'contentRating': None, 'isAdult': False, 'releaseDate': '2023-01-06', 'startYear': 2022, 'endYear': None, 'runtimeMinutes': 115, 'genres': ['Drama'], 'interests': ['Drama'], 'countriesOfOrigin': ['IT', 'AT'], 'externalLinks': None, 'spokenLanguages': ['it'], 'filmingLocations': None, 'productionCompanies': [{'id': 'co0175866', 'name': 'Vento Film'}], 'budget': None, 'grossWorldwide': 6694, 'averageRating': 6.8, 'numVotes': 427, 'metascore': None}, {'id': 'tt0473065', 'url': 'https://www.imdb.com/title/tt0473065/', 'primaryTitle': 'Nordstadt', 'originalTitle': 'Nordstadt', 'type': 'movie', 'description': None, 'primaryImage': 'https://m.media-amazon.com/images/M/MV5BYmU4Y2JhYmUtNDhjYS00ZGYwLTllZmYtZmVmOTk2NGIzNjU4XkEyXkFqcGc@.jpg', 'thumbnails': [{'url': 'https://m.media-amazon.com/images/M/MV5BYmU4Y2JhYmUtNDhjYS00ZGYwLTllZmYtZmVmOTk2NGIzNjU4XkEyXkFqcGc@._V1_QL75_UX100_CR0,0,100,148_.jpg', 'width': 100, 'height': 148}, {'url': 'https://m.media-amazon.com/images/M/MV5BYmU4Y2JhYmUtNDhjYS00ZGYwLTllZmYtZmVmOTk2NGIzNjU4XkEyXkFqcGc@._V1_QL75_UX280_CR0,0,280,414_.jpg', 'width': 280, 'height': 414}, {'url': 'https://m.media-amazon.com/images/M/MV5BYmU4Y2JhYmUtNDhjYS00ZGYwLTllZmYtZmVmOTk2NGIzNjU4XkEyXkFqcGc@._V1_QL75_UX380_CR0,0,380,562_.jpg', 'width': 380, 'height': 562}], 'trailer': None, 'contentRating': None, 'isAdult': False, 'releaseDate': '2005-07-07', 'startYear': 2005, 'endYear': None, 'runtimeMinutes': 90, 'genres': ['Drama'], 'interests': ['Drama'], 'countriesOfOrigin': ['DE'], 'externalLinks': ['http://www.nordstadt-film.de/'], 'spokenLanguages': ['de'], 'filmingLocations': ['Innenstadt-Nord, Dortmund, North Rhine-Westphalia, Germany'], 'productionCompanies': [{'id': 'co0160025', 'name': 'Fachhochschule Dortmund, Fachbereich Film und Fernsehen'}], 'budget': None, 'grossWorldwide': None, 'averageRating': 5, 'numVotes': 49, 'metascore': None}, {'id': 'tt3508198', 'url': 'https://www.imdb.com/title/tt3508198/', 'primaryTitle': 'Vasundhara', 'originalTitle': 'Vasundhara', 'type': 'movie', 'description': None, 'primaryImage': None, 'thumbnails': [], 'trailer': None, 'contentRating': None, 'isAdult': False, 'releaseDate': '1988-01-01', 'startYear': 1988, 'endYear': None, 'runtimeMinutes': None, 'genres': ['Drama'], 'interests': ['Drama'], 'countriesOfOrigin': ['IN'], 'externalLinks': None, 'spokenLanguages': ['hi'], 'filmingLocations': None, 'productionCompanies': [], 'budget': None, 'grossWorldwide': None, 'averageRating': None, 'numVotes': None, 'metascore': None}, {'id': 'tt0066420', 'url': 'https://www.imdb.com/title/tt0066420/', 'primaryTitle': 'Sudden Terror', 'originalTitle': 'Eyewitness', 'type': 'movie', 'description': 'Witnessing an assassination, a boy claims the assassins are hunting him. With his older sister, the pair escape numerous attacks and are aided by their grandfather and a resourceful young bystander even under the spectre of martial law.', 'primaryImage': 'https://m.media-amazon.com/images/M/MV5BMWY1MDA1OTktOGMyMi00YmExLTg4ZGUtNTZhOTYyZWEzOGZjXkEyXkFqcGc@.jpg', 'thumbnails': [{'url': 'https://m.media-amazon.com/images/M/MV5BMWY1MDA1OTktOGMyMi00YmExLTg4ZGUtNTZhOTYyZWEzOGZjXkEyXkFqcGc@._V1_QL75_UX100_CR0,0,100,148_.jpg', 'width': 100, 'height': 148}, {'url': 'https://m.media-amazon.com/images/M/MV5BMWY1MDA1OTktOGMyMi00YmExLTg4ZGUtNTZhOTYyZWEzOGZjXkEyXkFqcGc@._V1_QL75_UX280_CR0,0,280,414_.jpg', 'width': 280, 'height': 414}, {'url': 'https://m.media-amazon.com/images/M/MV5BMWY1MDA1OTktOGMyMi00YmExLTg4ZGUtNTZhOTYyZWEzOGZjXkEyXkFqcGc@._V1_QL75_UX380_CR0,0,380,562_.jpg', 'width': 380, 'height': 562}], 'trailer': 'https://www.youtube.com/watch?v=bMKjbGeo4Rg', 'contentRating': 'PG', 'isAdult': False, 'releaseDate': '1970-09-10', 'startYear': 1970, 'endYear': None, 'runtimeMinutes': 92, 'genres': ['Crime', 'Drama', 'Thriller'], 'interests': ['Crime', 'Drama', 'Thriller'], 'countriesOfOrigin': ['GB'], 'externalLinks': None, 'spokenLanguages': ['en'], 'filmingLocations': ['Malta'], 'productionCompanies': [{'id': 'co0039215', 'name': 'Irving Allen Productions'}, {'id': 'co0119027', 'name': 'EMI Film Productions'}], 'budget': None, 'grossWorldwide': None, 'averageRating': 6.1, 'numVotes': 824, 'metascore': None}, {'id': 'tt9014060', 'url': 'https://www.imdb.com/title/tt9014060/', 'primaryTitle': 'Hands That Bind', 'originalTitle': 'Hands That Bind', 'type': 'movie', 'description': 'A hired hand plans to eventually take over his boss farm are shattered when the landowners son returns to claim his birthright.', 'primaryImage': 'https://m.media-amazon.com/images/M/MV5BYzdmNGY1NTYtMzFlMS00NDBmLTgzMzUtYjkxMjAxY2U1NGNjXkEyXkFqcGc@.jpg', 'thumbnails': [{'url': 'https://m.media-amazon.com/images/M/MV5BYzdmNGY1NTYtMzFlMS00NDBmLTgzMzUtYjkxMjAxY2U1NGNjXkEyXkFqcGc@._V1_QL75_UX100_CR0,0,100,148_.jpg', 'width': 100, 'height': 148}, {'url': 'https://m.media-amazon.com/images/M/MV5BYzdmNGY1NTYtMzFlMS00NDBmLTgzMzUtYjkxMjAxY2U1NGNjXkEyXkFqcGc@._V1_QL75_UX280_CR0,0,280,414_.jpg', 'width': 280, 'height': 414}, {'url': 'https://m.media-amazon.com/images/M/MV5BYzdmNGY1NTYtMzFlMS00NDBmLTgzMzUtYjkxMjAxY2U1NGNjXkEyXkFqcGc@._V1_QL75_UX380_CR0,0,380,562_.jpg', 'width': 380, 'height': 562}], 'trailer': 'https://www.youtube.com/watch?v=GhM5jjLi4xk', 'contentRating': None, 'isAdult': False, 'releaseDate': '2023-11-03', 'startYear': 2021, 'endYear': None, 'runtimeMinutes': 116, 'genres': ['Drama'], 'interests': ['Drama'], 'countriesOfOrigin': ['CA'], 'externalLinks': None, 'spokenLanguages': ['en'], 'filmingLocations': None, 'productionCompanies': [], 'budget': None, 'grossWorldwide': None, 'averageRating': 6.9, 'numVotes': 93, 'metascore': None}, {'id': 'tt13222510', 'url': 'https://www.imdb.com/title/tt13222510/', 'primaryTitle': \"A Hero's Flashback\", 'originalTitle': \"A Hero's Flashback\", 'type': 'movie', 'description': None, 'primaryImage': None, 'thumbnails': [], 'trailer': None, 'contentRating': None, 'isAdult': False, 'releaseDate': None, 'startYear': None, 'endYear': None, 'runtimeMinutes': None, 'genres': ['Drama'], 'interests': ['Drama'], 'countriesOfOrigin': ['US'], 'externalLinks': None, 'spokenLanguages': None, 'filmingLocations': None, 'productionCompanies': [], 'budget': None, 'grossWorldwide': None, 'averageRating': None, 'numVotes': None, 'metascore': None}, {'id': 'tt5294092', 'url': 'https://www.imdb.com/title/tt5294092/', 'primaryTitle': 'Turo turo', 'originalTitle': 'Turo turo', 'type': 'movie', 'description': None, 'primaryImage': 'https://m.media-amazon.com/images/M/MV5BNjJmMWU3NWUtZjRiYi00NTIzLWI1ZWEtNjIwYjQzNzVlZDcyXkEyXkFqcGc@.jpg', 'thumbnails': [{'url': 'https://m.media-amazon.com/images/M/MV5BNjJmMWU3NWUtZjRiYi00NTIzLWI1ZWEtNjIwYjQzNzVlZDcyXkEyXkFqcGc@._V1_QL75_UX100_CR0,0,100,148_.jpg', 'width': 100, 'height': 148}, {'url': 'https://m.media-amazon.com/images/M/MV5BNjJmMWU3NWUtZjRiYi00NTIzLWI1ZWEtNjIwYjQzNzVlZDcyXkEyXkFqcGc@._V1_QL75_UX280_CR0,0,280,414_.jpg', 'width': 280, 'height': 414}, {'url': 'https://m.media-amazon.com/images/M/MV5BNjJmMWU3NWUtZjRiYi00NTIzLWI1ZWEtNjIwYjQzNzVlZDcyXkEyXkFqcGc@._V1_QL75_UX380_CR0,0,380,562_.jpg', 'width': 380, 'height': 562}], 'trailer': None, 'contentRating': None, 'isAdult': False, 'releaseDate': '2015-12-17', 'startYear': 2015, 'endYear': None, 'runtimeMinutes': 90, 'genres': ['Drama'], 'interests': ['Drama'], 'countriesOfOrigin': ['PH'], 'externalLinks': None, 'spokenLanguages': ['tl'], 'filmingLocations': None, 'productionCompanies': [], 'budget': None, 'grossWorldwide': None, 'averageRating': None, 'numVotes': None, 'metascore': None}, {'id': 'tt13988668', 'url': 'https://www.imdb.com/title/tt13988668/', 'primaryTitle': 'Figuras rotas', 'originalTitle': 'Figuras rotas', 'type': 'movie', 'description': None, 'primaryImage': None, 'thumbnails': [], 'trailer': None, 'contentRating': None, 'isAdult': False, 'releaseDate': '2015-04-11', 'startYear': 2015, 'endYear': None, 'runtimeMinutes': None, 'genres': ['Drama'], 'interests': ['Drama'], 'countriesOfOrigin': ['ES'], 'externalLinks': ['https://galotobias.com/figurasrotas/'], 'spokenLanguages': ['es'], 'filmingLocations': None, 'productionCompanies': [], 'budget': None, 'grossWorldwide': None, 'averageRating': None, 'numVotes': None, 'metascore': None}, {'id': 'tt8364138', 'url': 'https://www.imdb.com/title/tt8364138/', 'primaryTitle': 'Stage Mother', 'originalTitle': 'Stage Mother', 'type': 'movie', 'description': \"A conservative church choir director inherits her late son's San Francisco drag club.\", 'primaryImage': 'https://m.media-amazon.com/images/M/MV5BODJhOWE2ZjctM2JiYi00MmQyLWEzNGItODBlMTU0NTVmODY5XkEyXkFqcGc@.jpg', 'thumbnails': [{'url': 'https://m.media-amazon.com/images/M/MV5BODJhOWE2ZjctM2JiYi00MmQyLWEzNGItODBlMTU0NTVmODY5XkEyXkFqcGc@._V1_QL75_UX100_CR0,0,100,148_.jpg', 'width': 100, 'height': 148}, {'url': 'https://m.media-amazon.com/images/M/MV5BODJhOWE2ZjctM2JiYi00MmQyLWEzNGItODBlMTU0NTVmODY5XkEyXkFqcGc@._V1_QL75_UX280_CR0,0,280,414_.jpg', 'width': 280, 'height': 414}, {'url': 'https://m.media-amazon.com/images/M/MV5BODJhOWE2ZjctM2JiYi00MmQyLWEzNGItODBlMTU0NTVmODY5XkEyXkFqcGc@._V1_QL75_UX380_CR0,0,380,562_.jpg', 'width': 380, 'height': 562}], 'trailer': 'https://www.youtube.com/watch?v=8N0bzQ-qzCg', 'contentRating': 'R', 'isAdult': False, 'releaseDate': '2020-08-21', 'startYear': 2020, 'endYear': None, 'runtimeMinutes': 93, 'genres': ['Comedy', 'Drama', 'Music'], 'interests': ['Comedy', 'Drama', 'Music'], 'countriesOfOrigin': ['CA'], 'externalLinks': ['https://madmanfilms.com.au/stage-mother/', 'https://stage-mother.kinostar.com/'], 'spokenLanguages': ['en'], 'filmingLocations': ['Fort Massey United Church, Halifax, Nova Scotia, Canada'], 'productionCompanies': [{'id': 'co0541670', 'name': '4K Productions'}, {'id': 'co0224000', 'name': 'Branded Pictures'}, {'id': 'co0196303', 'name': 'Idiot Savant Pictures'}], 'budget': None, 'grossWorldwide': 28669, 'averageRating': 6.6, 'numVotes': 3223, 'metascore': 41}, {'id': 'tt0295383', 'url': 'https://www.imdb.com/title/tt0295383/', 'primaryTitle': 'Këshilltarët', 'originalTitle': 'Këshilltarët', 'type': 'movie', 'description': None, 'primaryImage': None, 'thumbnails': [], 'trailer': None, 'contentRating': None, 'isAdult': False, 'releaseDate': '1979-04-14', 'startYear': 1979, 'endYear': None, 'runtimeMinutes': 65, 'genres': ['Drama', 'War'], 'interests': ['Drama', 'War'], 'countriesOfOrigin': ['AL'], 'externalLinks': None, 'spokenLanguages': ['sq'], 'filmingLocations': None, 'productionCompanies': [{'id': 'co0052746', 'name': 'Shqipëria e Re'}], 'budget': None, 'grossWorldwide': None, 'averageRating': 7.9, 'numVotes': 16, 'metascore': None}, {'id': 'tt7520612', 'url': 'https://www.imdb.com/title/tt7520612/', 'primaryTitle': 'Root of All Evil', 'originalTitle': 'Root of All Evil', 'type': 'movie', 'description': 'The course of fate brings three students together, their desires and insecurities clashing, leading them to ruin.', 'primaryImage': 'https://m.media-amazon.com/images/M/MV5BZTVhNzlmNTItNTdmMS00MGVlLWJmNGYtZTAxYjhmZmZiNjk0XkEyXkFqcGc@.jpg', 'thumbnails': [{'url': 'https://m.media-amazon.com/images/M/MV5BZTVhNzlmNTItNTdmMS00MGVlLWJmNGYtZTAxYjhmZmZiNjk0XkEyXkFqcGc@._V1_QL75_UX100_CR0,0,100,148_.jpg', 'width': 100, 'height': 148}, {'url': 'https://m.media-amazon.com/images/M/MV5BZTVhNzlmNTItNTdmMS00MGVlLWJmNGYtZTAxYjhmZmZiNjk0XkEyXkFqcGc@._V1_QL75_UX280_CR0,0,280,414_.jpg', 'width': 280, 'height': 414}, {'url': 'https://m.media-amazon.com/images/M/MV5BZTVhNzlmNTItNTdmMS00MGVlLWJmNGYtZTAxYjhmZmZiNjk0XkEyXkFqcGc@._V1_QL75_UX380_CR0,0,380,562_.jpg', 'width': 380, 'height': 562}], 'trailer': None, 'contentRating': None, 'isAdult': False, 'releaseDate': '2017-11-03', 'startYear': 2017, 'endYear': None, 'runtimeMinutes': 77, 'genres': ['Drama'], 'interests': ['Drama'], 'countriesOfOrigin': ['GB'], 'externalLinks': None, 'spokenLanguages': ['en'], 'filmingLocations': ['Canterbury, Kent, England, UK'], 'productionCompanies': [{'id': 'co0588226', 'name': 'Black Moon'}], 'budget': 35, 'grossWorldwide': None, 'averageRating': None, 'numVotes': None, 'metascore': None}, {'id': 'tt11639910', 'url': 'https://www.imdb.com/title/tt11639910/', 'primaryTitle': 'Koottanchoru', 'originalTitle': 'Koottanchoru', 'type': 'movie', 'description': None, 'primaryImage': None, 'thumbnails': [], 'trailer': None, 'contentRating': None, 'isAdult': False, 'releaseDate': '2020-08-06', 'startYear': 2020, 'endYear': None, 'runtimeMinutes': None, 'genres': ['Drama'], 'interests': ['Drama'], 'countriesOfOrigin': ['IN'], 'externalLinks': None, 'spokenLanguages': ['ta'], 'filmingLocations': None, 'productionCompanies': [], 'budget': None, 'grossWorldwide': None, 'averageRating': None, 'numVotes': None, 'metascore': None}, {'id': 'tt7735498', 'url': 'https://www.imdb.com/title/tt7735498/', 'primaryTitle': 'The Cross and the Star', 'originalTitle': 'The Cross and the Star', 'type': 'movie', 'description': 'A modern day Catholic priest realizes he has been living a lie. The priest searches for answers as he knows he is one of the forgotten children of the Holocaust, never knowing until now that he is Jewish. Based on a true story.', 'primaryImage': 'https://m.media-amazon.com/images/M/MV5BNTQ3YTlkMWUtNGU0YS00M2UzLWJmMzUtNjg5N2VhYmJiZTFmXkEyXkFqcGc@.jpg', 'thumbnails': [{'url': 'https://m.media-amazon.com/images/M/MV5BNTQ3YTlkMWUtNGU0YS00M2UzLWJmMzUtNjg5N2VhYmJiZTFmXkEyXkFqcGc@._V1_QL75_UX100_CR0,0,100,148_.jpg', 'width': 100, 'height': 148}, {'url': 'https://m.media-amazon.com/images/M/MV5BNTQ3YTlkMWUtNGU0YS00M2UzLWJmMzUtNjg5N2VhYmJiZTFmXkEyXkFqcGc@._V1_QL75_UX280_CR0,0,280,414_.jpg', 'width': 280, 'height': 414}, {'url': 'https://m.media-amazon.com/images/M/MV5BNTQ3YTlkMWUtNGU0YS00M2UzLWJmMzUtNjg5N2VhYmJiZTFmXkEyXkFqcGc@._V1_QL75_UX380_CR0,0,380,562_.jpg', 'width': 380, 'height': 562}], 'trailer': None, 'contentRating': None, 'isAdult': False, 'releaseDate': None, 'startYear': 2019, 'endYear': None, 'runtimeMinutes': None, 'genres': ['Drama'], 'interests': ['Drama'], 'countriesOfOrigin': ['IT'], 'externalLinks': None, 'spokenLanguages': ['it'], 'filmingLocations': ['Italy'], 'productionCompanies': [], 'budget': None, 'grossWorldwide': None, 'averageRating': None, 'numVotes': None, 'metascore': None}, {'id': 'tt1598779', 'url': 'https://www.imdb.com/title/tt1598779/', 'primaryTitle': 'Dancing Mood', 'originalTitle': 'Dancing Mood', 'type': 'movie', 'description': None, 'primaryImage': None, 'thumbnails': [], 'trailer': None, 'contentRating': None, 'isAdult': False, 'releaseDate': None, 'startYear': None, 'endYear': None, 'runtimeMinutes': None, 'genres': ['Drama'], 'interests': ['Drama'], 'countriesOfOrigin': ['US'], 'externalLinks': None, 'spokenLanguages': None, 'filmingLocations': None, 'productionCompanies': [], 'budget': None, 'grossWorldwide': None, 'averageRating': None, 'numVotes': None, 'metascore': None}, {'id': 'tt0317300', 'url': 'https://www.imdb.com/title/tt0317300/', 'primaryTitle': 'Cemile', 'originalTitle': 'Cemile', 'type': 'movie', 'description': None, 'primaryImage': None, 'thumbnails': [], 'trailer': None, 'contentRating': None, 'isAdult': False, 'releaseDate': None, 'startYear': 1996, 'endYear': None, 'runtimeMinutes': 84, 'genres': ['Drama'], 'interests': ['Drama'], 'countriesOfOrigin': ['TR', 'DE'], 'externalLinks': None, 'spokenLanguages': ['tr', 'de'], 'filmingLocations': None, 'productionCompanies': [], 'budget': None, 'grossWorldwide': None, 'averageRating': 5.4, 'numVotes': 12, 'metascore': None}, {'id': 'tt0131136', 'url': 'https://www.imdb.com/title/tt0131136/', 'primaryTitle': 'Wings of Destiny', 'originalTitle': 'Wings of Destiny', 'type': 'movie', 'description': None, 'primaryImage': 'https://m.media-amazon.com/images/M/MV5BYWQyNzFmNDQtMjM5Yy00MTZmLThjZDYtZjcxYmMwZTIzNmUyXkEyXkFqcGc@.jpg', 'thumbnails': [{'url': 'https://m.media-amazon.com/images/M/MV5BYWQyNzFmNDQtMjM5Yy00MTZmLThjZDYtZjcxYmMwZTIzNmUyXkEyXkFqcGc@._V1_QL75_UX100_CR0,0,100,148_.jpg', 'width': 100, 'height': 148}, {'url': 'https://m.media-amazon.com/images/M/MV5BYWQyNzFmNDQtMjM5Yy00MTZmLThjZDYtZjcxYmMwZTIzNmUyXkEyXkFqcGc@._V1_QL75_UX280_CR0,0,280,414_.jpg', 'width': 280, 'height': 414}, {'url': 'https://m.media-amazon.com/images/M/MV5BYWQyNzFmNDQtMjM5Yy00MTZmLThjZDYtZjcxYmMwZTIzNmUyXkEyXkFqcGc@._V1_QL75_UX380_CR0,0,380,562_.jpg', 'width': 380, 'height': 562}], 'trailer': None, 'contentRating': None, 'isAdult': False, 'releaseDate': None, 'startYear': 1940, 'endYear': None, 'runtimeMinutes': 68, 'genres': ['Drama'], 'interests': ['Drama'], 'countriesOfOrigin': ['AU'], 'externalLinks': None, 'spokenLanguages': ['en'], 'filmingLocations': None, 'productionCompanies': [], 'budget': None, 'grossWorldwide': None, 'averageRating': None, 'numVotes': None, 'metascore': None}, {'id': 'tt0163127', 'url': 'https://www.imdb.com/title/tt0163127/', 'primaryTitle': 'The Ordeal of Elizabeth', 'originalTitle': 'The Ordeal of Elizabeth', 'type': 'movie', 'description': \"At first sight of Elizabeth Van Vorst, Hallock loses interest in her cousin, Amanda, whom he professed to love. Bereft of parents at an early age, Elizabeth was left in the care of a matronly aunt, Cornelia. Now, at twenty, she is a charming young miss. While visiting her cousin, Amanda, she meets Hallock, a wandering artist and musician. Attracted by her loveliness and charm, he forgets his avowed love for her cousin, and becomes infatuated with Elizabeth. Elizabeth's old-fashioned aunt objects to her friendship with a man whose affections are so easily swayed, and forbids her to see him. Piqued at her aunt's objection, Elizabeth continues to see him and he asks her to be his bride. After much pleading, she goes with him to a neighboring town where they are married. Fearing her aunt's ire, she pledges her husband to secrecy. She continues to live at home, while Hallock returns to the city, where he soon forgets his wife. Through an accident, Elizabeth meets and becomes interested in Julian Gerard, a gentleman from New York. Later, at the home of a mutual friend in New York they meet again. Their interest rapidly ripens into love. A prominent artist paints her portrait and when it is shown, she becomes the belle of the season. She goes to many social affairs with Gerard, and at one of them, is seen by her husband, who determines to use her apparent love for Gerard to his own benefit. In sore straits, he demands that she help him socially and financially, holding their marriage over her should she refuse. Elizabeth, unable to meet his demands for money sells her jewels. When she takes the blackmail to him, she is seen by Amanda, who is in Hallock's power. Thinking Elizabeth's relations with Hallock are the same as her own Amanda, in a fierce tirade, upbraids her for coming between them. Gerard, deeply in love with Elizabeth, persistently pleads his suit and is puzzled by her attitude. Although he can see that she loves him, she refuses to give him an affirmative answer, nor will she explain her action. Finally, he demands an explanation and she tells him of her unfortunate marriage. Despondent, he leaves the country to go on a long hunting trip to try and forget his sorrow. Soon after Gerard's departure, Hallock is found dead in his room, with a bottle of poison by his side bearing mute evidence to the cause of death. Elizabeth attracts suspicion to herself by a display of emotion, is taken into custody and held without bail. The trial begins. In connection with other damaging evidence, the testimony of the maid, who heard Elizabeth express a wish for Hallock's death, seems to nullify her chances of acquittal. In London, Gerard reads of the murder and the trial of Elizabeth. He leaves at once for America, where, on his arrival, he gives evidence which sways the case in Elizabeth's favor. After hours of deliberation, the jury returns the verdict of not guilty, and Elizabeth is freed. After the trial she is summoned to the bedside of Amanda in a hospital. Here, with her life blood fast ebbing, Amanda confesses to the murder of Hallock telling of the disgrace and humiliation he had caused her. Her confession finished, her lips are sealed forever by the hand of death. After their marriage, Elizabeth and Gerard leave for a honeymoon in the country, where Elizabeth will have an opportunity to blot the terrible ordeal from her memory.\", 'primaryImage': 'https://m.media-amazon.com/images/M/MV5BZjE5MjAwYTUtOGYzYy00ZTBkLTlhZjktYjE0NzhmZTAxYTIwXkEyXkFqcGc@.jpg', 'thumbnails': [{'url': 'https://m.media-amazon.com/images/M/MV5BZjE5MjAwYTUtOGYzYy00ZTBkLTlhZjktYjE0NzhmZTAxYTIwXkEyXkFqcGc@._V1_QL75_UX100_CR0,0,100,148_.jpg', 'width': 100, 'height': 148}, {'url': 'https://m.media-amazon.com/images/M/MV5BZjE5MjAwYTUtOGYzYy00ZTBkLTlhZjktYjE0NzhmZTAxYTIwXkEyXkFqcGc@._V1_QL75_UX280_CR0,0,280,414_.jpg', 'width': 280, 'height': 414}, {'url': 'https://m.media-amazon.com/images/M/MV5BZjE5MjAwYTUtOGYzYy00ZTBkLTlhZjktYjE0NzhmZTAxYTIwXkEyXkFqcGc@._V1_QL75_UX380_CR0,0,380,562_.jpg', 'width': 380, 'height': 562}], 'trailer': None, 'contentRating': None, 'isAdult': False, 'releaseDate': '1916-05-15', 'startYear': 1916, 'endYear': None, 'runtimeMinutes': 60, 'genres': ['Drama'], 'interests': ['Drama'], 'countriesOfOrigin': ['US'], 'externalLinks': None, 'spokenLanguages': ['en'], 'filmingLocations': None, 'productionCompanies': [{'id': 'co0026198', 'name': 'Vitagraph Company of America'}], 'budget': None, 'grossWorldwide': None, 'averageRating': 4.8, 'numVotes': 11, 'metascore': None}, {'id': 'tt35146974', 'url': 'https://www.imdb.com/title/tt35146974/', 'primaryTitle': 'Vermësst!', 'originalTitle': 'Vermësst!', 'type': 'movie', 'description': None, 'primaryImage': 'https://m.media-amazon.com/images/M/MV5BMTdkMjJhYjEtYmZlNi00YWM1LTg4OTAtYmJkOGU4NGJmZGExXkEyXkFqcGc@.jpg', 'thumbnails': [{'url': 'https://m.media-amazon.com/images/M/MV5BMTdkMjJhYjEtYmZlNi00YWM1LTg4OTAtYmJkOGU4NGJmZGExXkEyXkFqcGc@._V1_QL75_UX100_CR0,0,100,148_.jpg', 'width': 100, 'height': 148}, {'url': 'https://m.media-amazon.com/images/M/MV5BMTdkMjJhYjEtYmZlNi00YWM1LTg4OTAtYmJkOGU4NGJmZGExXkEyXkFqcGc@._V1_QL75_UX280_CR0,0,280,414_.jpg', 'width': 280, 'height': 414}, {'url': 'https://m.media-amazon.com/images/M/MV5BMTdkMjJhYjEtYmZlNi00YWM1LTg4OTAtYmJkOGU4NGJmZGExXkEyXkFqcGc@._V1_QL75_UX380_CR0,0,380,562_.jpg', 'width': 380, 'height': 562}], 'trailer': None, 'contentRating': None, 'isAdult': False, 'releaseDate': '2025-07-25', 'startYear': 2025, 'endYear': None, 'runtimeMinutes': 95, 'genres': ['Crime', 'Drama', 'Thriller'], 'interests': ['Crime', 'Drama', 'Thriller'], 'countriesOfOrigin': ['LU'], 'externalLinks': ['http://www.tfpl-films.lu/'], 'spokenLanguages': ['lb', 'fr'], 'filmingLocations': ['Lasauvage, Luxembourg'], 'productionCompanies': [{'id': 'co1104116', 'name': 'TFPL Films'}, {'id': 'co1104113', 'name': 'RGBe-motion ASBL'}, {'id': 'co0263855', 'name': 'Feierblumm Productions'}], 'budget': 17300, 'grossWorldwide': None, 'averageRating': None, 'numVotes': None, 'metascore': None}, {'id': 'tt3166500', 'url': 'https://www.imdb.com/title/tt3166500/', 'primaryTitle': 'Homesick', 'originalTitle': 'De nærmeste', 'type': 'movie', 'description': 'Two half-siblings who grew up apart meet for the first time as adults and fall in love.', 'primaryImage': 'https://m.media-amazon.com/images/M/MV5BYjBjMTY1ZWUtYjIzMC00ZDMxLWI4MzItYmU3NWQxYjhmYmQwXkEyXkFqcGc@.jpg', 'thumbnails': [{'url': 'https://m.media-amazon.com/images/M/MV5BYjBjMTY1ZWUtYjIzMC00ZDMxLWI4MzItYmU3NWQxYjhmYmQwXkEyXkFqcGc@._V1_QL75_UX100_CR0,0,100,148_.jpg', 'width': 100, 'height': 148}, {'url': 'https://m.media-amazon.com/images/M/MV5BYjBjMTY1ZWUtYjIzMC00ZDMxLWI4MzItYmU3NWQxYjhmYmQwXkEyXkFqcGc@._V1_QL75_UX280_CR0,0,280,414_.jpg', 'width': 280, 'height': 414}, {'url': 'https://m.media-amazon.com/images/M/MV5BYjBjMTY1ZWUtYjIzMC00ZDMxLWI4MzItYmU3NWQxYjhmYmQwXkEyXkFqcGc@._V1_QL75_UX380_CR0,0,380,562_.jpg', 'width': 380, 'height': 562}], 'trailer': None, 'contentRating': None, 'isAdult': False, 'releaseDate': '2015-03-27', 'startYear': 2015, 'endYear': None, 'runtimeMinutes': 106, 'genres': ['Drama'], 'interests': ['Drama'], 'countriesOfOrigin': ['NO'], 'externalLinks': None, 'spokenLanguages': ['no', 'en'], 'filmingLocations': None, 'productionCompanies': [{'id': 'co0363158', 'name': 'Maipo Film'}], 'budget': 22300000, 'grossWorldwide': None, 'averageRating': 5.5, 'numVotes': 2118, 'metascore': None}, {'id': 'tt34247420', 'url': 'https://www.imdb.com/title/tt34247420/', 'primaryTitle': 'Abar Asibo Firey', 'originalTitle': 'Abar Asibo Firey', 'type': 'movie', 'description': 'Through this story we get to see some of the diversity of Bengal, get a special idea about folk music, palligiti, villages of Bengal, their language, their mannerisms, their culture, etc.', 'primaryImage': 'https://m.media-amazon.com/images/M/MV5BNTA0YjI0NWEtYmI2Ny00OTY2LWEwYWUtNmM4YzUxZGU3OTAyXkEyXkFqcGc@.jpg', 'thumbnails': [{'url': 'https://m.media-amazon.com/images/M/MV5BNTA0YjI0NWEtYmI2Ny00OTY2LWEwYWUtNmM4YzUxZGU3OTAyXkEyXkFqcGc@._V1_QL75_UX100_CR0,0,100,148_.jpg', 'width': 100, 'height': 148}, {'url': 'https://m.media-amazon.com/images/M/MV5BNTA0YjI0NWEtYmI2Ny00OTY2LWEwYWUtNmM4YzUxZGU3OTAyXkEyXkFqcGc@._V1_QL75_UX280_CR0,0,280,414_.jpg', 'width': 280, 'height': 414}, {'url': 'https://m.media-amazon.com/images/M/MV5BNTA0YjI0NWEtYmI2Ny00OTY2LWEwYWUtNmM4YzUxZGU3OTAyXkEyXkFqcGc@._V1_QL75_UX380_CR0,0,380,562_.jpg', 'width': 380, 'height': 562}], 'trailer': None, 'contentRating': None, 'isAdult': False, 'releaseDate': '2024-10-25', 'startYear': 2024, 'endYear': None, 'runtimeMinutes': 119, 'genres': ['Drama'], 'interests': ['Drama'], 'countriesOfOrigin': ['IN'], 'externalLinks': None, 'spokenLanguages': ['bn'], 'filmingLocations': None, 'productionCompanies': [{'id': 'co1093160', 'name': 'Amaladiptyas Films & Creative Works'}], 'budget': None, 'grossWorldwide': None, 'averageRating': None, 'numVotes': None, 'metascore': None}, {'id': 'tt9593108', 'url': 'https://www.imdb.com/title/tt9593108/', 'primaryTitle': 'Demodori kangei', 'originalTitle': 'Demodori kangei', 'type': 'movie', 'description': None, 'primaryImage': None, 'thumbnails': [], 'trailer': None, 'contentRating': None, 'isAdult': False, 'releaseDate': None, 'startYear': 1931, 'endYear': None, 'runtimeMinutes': None, 'genres': ['Drama'], 'interests': ['Drama'], 'countriesOfOrigin': ['JP'], 'externalLinks': None, 'spokenLanguages': ['ja'], 'filmingLocations': None, 'productionCompanies': [{'id': 'co0298634', 'name': 'Shochiku Kamata'}], 'budget': None, 'grossWorldwide': None, 'averageRating': None, 'numVotes': None, 'metascore': None}, {'id': 'tt0042815', 'url': 'https://www.imdb.com/title/tt0042815/', 'primaryTitle': 'Oriental Evil', 'originalTitle': 'Oriental Evil', 'type': 'movie', 'description': \"Set in post war Japan, an American woman tries to clear her brother's reputation as a drug smuggler after his apparent suicide. She gets help from a seemingly kind Englishman.\", 'primaryImage': 'https://m.media-amazon.com/images/M/MV5BZmRiNmMyNTAtNmZmMy00NDk5LWFjOWYtNmJhNmIzYjAxNzFiXkEyXkFqcGc@.jpg', 'thumbnails': [{'url': 'https://m.media-amazon.com/images/M/MV5BZmRiNmMyNTAtNmZmMy00NDk5LWFjOWYtNmJhNmIzYjAxNzFiXkEyXkFqcGc@._V1_QL75_UX100_CR0,0,100,148_.jpg', 'width': 100, 'height': 148}, {'url': 'https://m.media-amazon.com/images/M/MV5BZmRiNmMyNTAtNmZmMy00NDk5LWFjOWYtNmJhNmIzYjAxNzFiXkEyXkFqcGc@._V1_QL75_UX280_CR0,0,280,414_.jpg', 'width': 280, 'height': 414}, {'url': 'https://m.media-amazon.com/images/M/MV5BZmRiNmMyNTAtNmZmMy00NDk5LWFjOWYtNmJhNmIzYjAxNzFiXkEyXkFqcGc@._V1_QL75_UX380_CR0,0,380,562_.jpg', 'width': 380, 'height': 562}], 'trailer': None, 'contentRating': 'Not Rated', 'isAdult': False, 'releaseDate': '1952-09-25', 'startYear': 1951, 'endYear': None, 'runtimeMinutes': 64, 'genres': ['Crime', 'Drama'], 'interests': ['Crime', 'Drama'], 'countriesOfOrigin': ['US'], 'externalLinks': None, 'spokenLanguages': ['en'], 'filmingLocations': ['Tokyo, Japan'], 'productionCompanies': [{'id': 'co0055480', 'name': 'Breakston-Stahl Productions'}], 'budget': None, 'grossWorldwide': None, 'averageRating': 5.1, 'numVotes': 83, 'metascore': None}, {'id': 'tt3476000', 'url': 'https://www.imdb.com/title/tt3476000/', 'primaryTitle': 'Turn Off', 'originalTitle': 'Turn Off', 'type': 'movie', 'description': 'Polemic and intriguing. Loved by some. Hated by others. From Overland city/ Brazil. He is Carlos, Huguenot and Bisect. Or just HUB. The main character of a documentary that creates tension, in the constant game of construction and deconstruction of an image.', 'primaryImage': None, 'thumbnails': [], 'trailer': None, 'contentRating': None, 'isAdult': False, 'releaseDate': None, 'startYear': 2013, 'endYear': None, 'runtimeMinutes': 79, 'genres': ['Biography', 'Documentary', 'Drama'], 'interests': ['Biography', 'Documentary', 'Drama'], 'countriesOfOrigin': ['BR'], 'externalLinks': None, 'spokenLanguages': ['pt'], 'filmingLocations': None, 'productionCompanies': [], 'budget': None, 'grossWorldwide': None, 'averageRating': None, 'numVotes': None, 'metascore': None}, {'id': 'tt3913244', 'url': 'https://www.imdb.com/title/tt3913244/', 'primaryTitle': 'The Carer', 'originalTitle': 'The Carer', 'type': 'movie', 'description': 'When the question is to be or not to be, there is only one answer.', 'primaryImage': 'https://m.media-amazon.com/images/M/MV5BMTY0NTY0NTM4OF5BMl5BanBnXkFtZTgwNzQ1MDgxMDI@.jpg', 'thumbnails': [{'url': 'https://m.media-amazon.com/images/M/MV5BMTY0NTY0NTM4OF5BMl5BanBnXkFtZTgwNzQ1MDgxMDI@._V1_QL75_UX100_CR0,0,100,148_.jpg', 'width': 100, 'height': 148}, {'url': 'https://m.media-amazon.com/images/M/MV5BMTY0NTY0NTM4OF5BMl5BanBnXkFtZTgwNzQ1MDgxMDI@._V1_QL75_UX280_CR0,0,280,414_.jpg', 'width': 280, 'height': 414}, {'url': 'https://m.media-amazon.com/images/M/MV5BMTY0NTY0NTM4OF5BMl5BanBnXkFtZTgwNzQ1MDgxMDI@._V1_QL75_UX380_CR0,0,380,562_.jpg', 'width': 380, 'height': 562}], 'trailer': 'https://www.youtube.com/watch?v=-Hu0duNTy4A', 'contentRating': None, 'isAdult': False, 'releaseDate': '2016-08-05', 'startYear': 2016, 'endYear': None, 'runtimeMinutes': 89, 'genres': ['Comedy', 'Drama'], 'interests': ['Comedy', 'Drama'], 'countriesOfOrigin': ['HU', 'GB'], 'externalLinks': None, 'spokenLanguages': None, 'filmingLocations': ['Theatre Royal, Margate, Kent, England, UK'], 'productionCompanies': [{'id': 'co0071774', 'name': 'Mythberg Films'}, {'id': 'co0096239', 'name': 'Hopscotch Films'}, {'id': 'co0178273', 'name': 'Vita Nova Films'}], 'budget': None, 'grossWorldwide': 268476, 'averageRating': 6.6, 'numVotes': 1480, 'metascore': None}, {'id': 'tt0010399', 'url': 'https://www.imdb.com/title/tt0010399/', 'primaryTitle': 'The Love That Dares', 'originalTitle': 'The Love That Dares', 'type': 'movie', 'description': \"A marital misunderstanding between iron manufacturer Perry Risdon and his wife Olive occurs when her extravagant spending forces him to devote all of his time to business, which she interprets as neglect. Millionaire Ned Beckwith, Olive's former suitor, sees the developing breech and attempts to use it to his advantage by secretly forcing a bank to make Perry repay an $80,000 loan within 24 hours. When Beckwith agrees to Perry's loan request on the condition that he divorce Olive, Perry knocks him down. Olive, vacationing alone in Pasadena, gets word of her husband's straits and sells her jewelry to raise $30,000. Beckwith replies to her request for the rest by inviting her to his apartment that night. Deeply troubled, Olive goes and is saved from Beckwith's seduction when Beckwith's mistress, Marta Holmes, calls Perry, who arrives and fights Beckwith. Marta then kills Beckwith and drowns herself, while the Risdons are reconciled.\", 'primaryImage': 'https://m.media-amazon.com/images/M/MV5BZWI0ZDM5ZDktMDAyZi00MzI4LWI1MGQtMTViMjVhMjBmMTJmXkEyXkFqcGc@.jpg', 'thumbnails': [{'url': 'https://m.media-amazon.com/images/M/MV5BZWI0ZDM5ZDktMDAyZi00MzI4LWI1MGQtMTViMjVhMjBmMTJmXkEyXkFqcGc@._V1_QL75_UX100_CR0,0,100,148_.jpg', 'width': 100, 'height': 148}, {'url': 'https://m.media-amazon.com/images/M/MV5BZWI0ZDM5ZDktMDAyZi00MzI4LWI1MGQtMTViMjVhMjBmMTJmXkEyXkFqcGc@._V1_QL75_UX280_CR0,0,280,414_.jpg', 'width': 280, 'height': 414}, {'url': 'https://m.media-amazon.com/images/M/MV5BZWI0ZDM5ZDktMDAyZi00MzI4LWI1MGQtMTViMjVhMjBmMTJmXkEyXkFqcGc@._V1_QL75_UX380_CR0,0,380,562_.jpg', 'width': 380, 'height': 562}], 'trailer': None, 'contentRating': None, 'isAdult': False, 'releaseDate': '1919-04-20', 'startYear': 1919, 'endYear': None, 'runtimeMinutes': 50, 'genres': ['Drama'], 'interests': ['Drama'], 'countriesOfOrigin': ['US'], 'externalLinks': None, 'spokenLanguages': None, 'filmingLocations': None, 'productionCompanies': [{'id': 'co0028775', 'name': 'Fox Film Corporation'}], 'budget': None, 'grossWorldwide': None, 'averageRating': 4.8, 'numVotes': 11, 'metascore': None}], 'nextCursorMark': 'AoE/AWZmZmEyMTM4NzVkY2IwYWIyNGY4YjYwNWM1MDU1YmM1'}\n"
     ]
    }
   ],
   "source": [
    "import requests\n",
    "\n",
    "url = \"https://imdb236.p.rapidapi.com/api/imdb/search\"\n",
    "\n",
    "querystring = {\"type\":\"movie\",\"genre\":\"Drama\",\"rows\":\"25\",\"sortOrder\":\"ASC\",\"sortField\":\"id\"}\n",
    "\n",
    "headers = {\n",
    "\t\"x-rapidapi-key\": \"302c372e57msh5090b61cf9523d8p13b5b8jsn0366353d46d2\",\n",
    "\t\"x-rapidapi-host\": \"imdb236.p.rapidapi.com\"\n",
    "}\n",
    "\n",
    "response = requests.get(url, headers=headers, params=querystring)\n",
    "\n",
    "print(response.json())"
   ]
  },
  {
   "cell_type": "code",
   "execution_count": null,
   "id": "8d47a096-fe7e-47fe-9ce9-c9fb8aca7495",
   "metadata": {},
   "outputs": [],
   "source": []
  },
  {
   "cell_type": "code",
   "execution_count": null,
   "id": "20a701bc-a5ce-41c4-8b12-fc8faa062458",
   "metadata": {},
   "outputs": [],
   "source": []
  },
  {
   "cell_type": "code",
   "execution_count": null,
   "id": "cb9c97f1-7295-4bbf-8f9a-9539ee5ad56c",
   "metadata": {},
   "outputs": [],
   "source": []
  }
 ],
 "metadata": {
  "kernelspec": {
   "display_name": "Python 3 (ipykernel)",
   "language": "python",
   "name": "python3"
  },
  "language_info": {
   "codemirror_mode": {
    "name": "ipython",
    "version": 3
   },
   "file_extension": ".py",
   "mimetype": "text/x-python",
   "name": "python",
   "nbconvert_exporter": "python",
   "pygments_lexer": "ipython3",
   "version": "3.12.9"
  }
 },
 "nbformat": 4,
 "nbformat_minor": 5
}
