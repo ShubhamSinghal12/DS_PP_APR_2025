{
 "cells": [
  {
   "cell_type": "code",
   "execution_count": 9,
   "id": "0627dca0-d2d2-4d2d-859b-10eba4ec4674",
   "metadata": {},
   "outputs": [
    {
     "name": "stdout",
     "output_type": "stream",
     "text": [
      "en.wikipedia.org › wiki › \"Hello,_World!\"_program\n",
      "\"Hello, World!\" program - Wikipedia https://en.wikipedia.org/wiki/%22Hello,_World!%22_program\n",
      "thehelloworld.com › coliving-in-delhi\n",
      "Coliving in delhi | HelloWorld https://thehelloworld.com/coliving-in-delhi\n",
      "www.programiz.com › java-programming › hello-world\n",
      "Java Hello World - Your First Java Program https://www.programiz.com/java-programming/hello-world\n",
      " https://en.wikipedia.org/wiki/%22Hello,_World!%22_program\n",
      " https://www.w3schools.in/hello-world-program\n",
      " https://en.wikibooks.org/wiki/Programming_Fundamentals/Hello_World\n",
      " https://en.wikipedia.org/wiki/%22Hello,_World!%22_program\n",
      " https://en.wikipedia.org/wiki/%22Hello,_World!%22_program\n",
      " https://www.w3schools.in/hello-world-program\n",
      "www.geeksforgeeks.org › dsa › hello-world-program\n",
      "Hello World Program : First program while learning Programming https://www.geeksforgeeks.org/dsa/hello-world-program-first-program-while-learning-programming/\n",
      "en.wikiversity.org › wiki › Hello,_world!\n",
      "Hello, world! - Wikiversity https://en.wikiversity.org/wiki/Hello,_world!\n",
      "en.wikibooks.org › Hello_World\n",
      "Programming Fundamentals/Hello World - Wikibooks https://en.wikibooks.org/wiki/Programming_Fundamentals/Hello_World\n",
      "www.w3schools.in › hello-world-program\n",
      "Hello World! Program - W3Schools https://www.w3schools.in/hello-world-program\n"
     ]
    }
   ],
   "source": [
    "from selenium import webdriver\n",
    "from selenium.webdriver.common.by import By\n",
    "from selenium.webdriver.common.keys import Keys\n",
    "import time\n",
    "\n",
    "\n",
    "driver = webdriver.Chrome()\n",
    "\n",
    "url = \"https://in.search.yahoo.com/\"\n",
    "\n",
    "driver.get(url)\n",
    "time.sleep(3)\n",
    "element = driver.find_element(By.NAME,'p')\n",
    "# print(element.get_attribute('outerHTML'))\n",
    "element.send_keys('Hello World')\n",
    "element.send_keys(Keys.RETURN)\n",
    "time.sleep(3)\n",
    "elements = driver.find_elements(By.CSS_SELECTOR,'h3.title a')\n",
    "for ele in elements:\n",
    "    print(ele.text,ele.get_attribute('href'))\n",
    "    \n",
    "element = driver.find_element(By.ID,'logo')\n",
    "element.click()\n",
    "\n",
    "time.sleep(3)\n",
    "driver.quit()"
   ]
  },
  {
   "cell_type": "code",
   "execution_count": null,
   "id": "b5a7d83c-ae7d-4c0b-89d3-62eeb9672702",
   "metadata": {},
   "outputs": [],
   "source": []
  }
 ],
 "metadata": {
  "kernelspec": {
   "display_name": "Python 3 (ipykernel)",
   "language": "python",
   "name": "python3"
  },
  "language_info": {
   "codemirror_mode": {
    "name": "ipython",
    "version": 3
   },
   "file_extension": ".py",
   "mimetype": "text/x-python",
   "name": "python",
   "nbconvert_exporter": "python",
   "pygments_lexer": "ipython3",
   "version": "3.12.9"
  }
 },
 "nbformat": 4,
 "nbformat_minor": 5
}
