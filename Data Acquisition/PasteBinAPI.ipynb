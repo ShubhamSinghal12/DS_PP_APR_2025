{
 "cells": [
  {
   "cell_type": "code",
   "execution_count": 1,
   "id": "03c2f8d4-d336-43f1-befa-95a4fa3c21fc",
   "metadata": {},
   "outputs": [],
   "source": [
    "import requests"
   ]
  },
  {
   "cell_type": "code",
   "execution_count": 10,
   "id": "e118bfdf-4a7d-4d2a-8e4e-a5a128e7f8b6",
   "metadata": {},
   "outputs": [],
   "source": [
    "params={'api_dev_key':'wWAtkUA4HTBbv8V2Ln_Gx1V1fqEeSAHH',\n",
    "        'api_option':'paste',\n",
    "        'api_paste_code':'This is an API generated Paste'}"
   ]
  },
  {
   "cell_type": "code",
   "execution_count": 31,
   "id": "d4e444b2-a6be-4968-ad1e-a45a15354d95",
   "metadata": {},
   "outputs": [],
   "source": [
    "url = 'https://pastebin.com/api/api_post.php'\n",
    "res = requests.post(url,data = params)"
   ]
  },
  {
   "cell_type": "code",
   "execution_count": 32,
   "id": "dbaac623-344d-4931-8e46-353f8ca67529",
   "metadata": {},
   "outputs": [
    {
     "data": {
      "text/plain": [
       "<Response [200]>"
      ]
     },
     "execution_count": 32,
     "metadata": {},
     "output_type": "execute_result"
    }
   ],
   "source": [
    "res"
   ]
  },
  {
   "cell_type": "code",
   "execution_count": 33,
   "id": "e0bcb2e6-607a-4c04-8ae3-9b8fd09879c6",
   "metadata": {},
   "outputs": [
    {
     "data": {
      "text/plain": [
       "'https://pastebin.com/NDpCHBXq'"
      ]
     },
     "execution_count": 33,
     "metadata": {},
     "output_type": "execute_result"
    }
   ],
   "source": [
    "res.text"
   ]
  },
  {
   "cell_type": "code",
   "execution_count": null,
   "id": "2aa58725-4780-41d8-988d-f6c6b6285a2b",
   "metadata": {},
   "outputs": [],
   "source": []
  }
 ],
 "metadata": {
  "kernelspec": {
   "display_name": "Python 3 (ipykernel)",
   "language": "python",
   "name": "python3"
  },
  "language_info": {
   "codemirror_mode": {
    "name": "ipython",
    "version": 3
   },
   "file_extension": ".py",
   "mimetype": "text/x-python",
   "name": "python",
   "nbconvert_exporter": "python",
   "pygments_lexer": "ipython3",
   "version": "3.12.9"
  }
 },
 "nbformat": 4,
 "nbformat_minor": 5
}
